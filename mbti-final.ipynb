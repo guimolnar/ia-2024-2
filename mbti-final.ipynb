{
 "cells": [
  {
   "cell_type": "code",
   "execution_count": 1,
   "metadata": {
    "_cell_guid": "b1076dfc-b9ad-4769-8c92-a6c4dae69d19",
    "_uuid": "8f2839f25d086af736a60e9eeb907d3b93b6e0e5",
    "execution": {
     "iopub.execute_input": "2024-12-09T10:40:33.237532Z",
     "iopub.status.busy": "2024-12-09T10:40:33.237154Z",
     "iopub.status.idle": "2024-12-09T10:40:33.248386Z",
     "shell.execute_reply": "2024-12-09T10:40:33.247299Z",
     "shell.execute_reply.started": "2024-12-09T10:40:33.237498Z"
    },
    "trusted": true
   },
   "outputs": [
    {
     "name": "stderr",
     "output_type": "stream",
     "text": [
      "/home/guilherme/Documents/mestrado/disciplinas/inteligencia-artificial/projeto-final/ia-2024-2/lib/python3.9/site-packages/tqdm/auto.py:21: TqdmWarning: IProgress not found. Please update jupyter and ipywidgets. See https://ipywidgets.readthedocs.io/en/stable/user_install.html\n",
      "  from .autonotebook import tqdm as notebook_tqdm\n"
     ]
    }
   ],
   "source": [
    "# This Python 3 environment comes with many helpful analytics libraries installed\n",
    "# It is defined by the kaggle/python Docker image: https://github.com/kaggle/docker-python\n",
    "# For example, here's several helpful packages to load\n",
    "\n",
    "import numpy as np # linear algebra\n",
    "import pandas as pd # data processing, CSV file I/O (e.g. pd.read_csv)\n",
    "import kagglehub"
   ]
  },
  {
   "cell_type": "code",
   "execution_count": 15,
   "metadata": {},
   "outputs": [],
   "source": [
    "mbti_personality_type_twitter_dataset_path = kagglehub.dataset_download('mazlumi/mbti-personality-type-twitter-dataset')"
   ]
  },
  {
   "cell_type": "code",
   "execution_count": 16,
   "metadata": {},
   "outputs": [],
   "source": [
    "glove6b300dtxt_path = kagglehub.dataset_download('thanakomsn/glove6b300dtxt')"
   ]
  },
  {
   "cell_type": "code",
   "execution_count": 4,
   "metadata": {},
   "outputs": [
    {
     "name": "stdout",
     "output_type": "stream",
     "text": [
      "/home/guilherme/.cache/kagglehub/datasets/mazlumi/mbti-personality-type-twitter-dataset/versions/1\n",
      "/home/guilherme/.cache/kagglehub/datasets/thanakomsn/glove6b300dtxt/versions/1\n"
     ]
    }
   ],
   "source": [
    "print(mbti_personality_type_twitter_dataset_path)\n",
    "print(glove6b300dtxt_path)"
   ]
  },
  {
   "cell_type": "code",
   "execution_count": 5,
   "metadata": {},
   "outputs": [
    {
     "name": "stdout",
     "output_type": "stream",
     "text": [
      "/home/guilherme/.cache/kagglehub/datasets/mazlumi/mbti-personality-type-twitter-dataset/versions/1/twitter_MBTI.csv\n",
      "/home/guilherme/.cache/kagglehub/datasets/thanakomsn/glove6b300dtxt/versions/1/glove.6B.300d.txt\n"
     ]
    }
   ],
   "source": [
    "import os\n",
    "\n",
    "for dirname, _, filenames in os.walk(mbti_personality_type_twitter_dataset_path):\n",
    "    for filename in filenames:\n",
    "        print(os.path.join(dirname, filename))\n",
    "\n",
    "for dirname, _, filenames in os.walk(glove6b300dtxt_path):\n",
    "    for filename in filenames:\n",
    "        print(os.path.join(dirname, filename))"
   ]
  },
  {
   "cell_type": "code",
   "execution_count": 2,
   "metadata": {
    "execution": {
     "iopub.execute_input": "2024-12-09T10:40:39.477629Z",
     "iopub.status.busy": "2024-12-09T10:40:39.477290Z",
     "iopub.status.idle": "2024-12-09T10:40:42.395952Z",
     "shell.execute_reply": "2024-12-09T10:40:42.394800Z",
     "shell.execute_reply.started": "2024-12-09T10:40:39.477597Z"
    },
    "trusted": true
   },
   "outputs": [
    {
     "data": {
      "text/html": [
       "<div>\n",
       "<style scoped>\n",
       "    .dataframe tbody tr th:only-of-type {\n",
       "        vertical-align: middle;\n",
       "    }\n",
       "\n",
       "    .dataframe tbody tr th {\n",
       "        vertical-align: top;\n",
       "    }\n",
       "\n",
       "    .dataframe thead th {\n",
       "        text-align: right;\n",
       "    }\n",
       "</style>\n",
       "<table border=\"1\" class=\"dataframe\">\n",
       "  <thead>\n",
       "    <tr style=\"text-align: right;\">\n",
       "      <th></th>\n",
       "      <th>Unnamed: 0</th>\n",
       "      <th>text</th>\n",
       "      <th>label</th>\n",
       "      <th>cleaned_text</th>\n",
       "      <th>cleaned_text_separated</th>\n",
       "      <th>tfidf_embedding</th>\n",
       "      <th>glove_embedding</th>\n",
       "    </tr>\n",
       "  </thead>\n",
       "  <tbody>\n",
       "    <tr>\n",
       "      <th>0</th>\n",
       "      <td>0</td>\n",
       "      <td>@Pericles216 @HierBeforeTheAC @Sachinettiyil T...</td>\n",
       "      <td>intj</td>\n",
       "      <td>pope infallible catholic dogma doesnt mean per...</td>\n",
       "      <td>[pope infallible catholic dogma doesnt mean, p...</td>\n",
       "      <td>[0.0, 0.0, 0.0, 0.0, 0.0, 0.0, 0.0, 0.0, 0.019...</td>\n",
       "      <td>[-0.04726143, -0.060535315, -0.057487372, 0.00...</td>\n",
       "    </tr>\n",
       "    <tr>\n",
       "      <th>1</th>\n",
       "      <td>1</td>\n",
       "      <td>@Hispanthicckk Being you makes you look cute||...</td>\n",
       "      <td>intj</td>\n",
       "      <td>makes look cute fun peeling bored less sweetie...</td>\n",
       "      <td>[makes look cute, fun peeling, bored, less, sw...</td>\n",
       "      <td>[0.0, 0.0, 0.0, 0.0, 0.0, 0.0, 0.0, 0.0, 0.0, ...</td>\n",
       "      <td>[-0.049909562, -0.022831392, -0.028013704, -0....</td>\n",
       "    </tr>\n",
       "    <tr>\n",
       "      <th>2</th>\n",
       "      <td>2</td>\n",
       "      <td>@Alshymi Les balles sont réelles et sont tirée...</td>\n",
       "      <td>intj</td>\n",
       "      <td>les balles sont relles et sont tires trs rapid...</td>\n",
       "      <td>[les balles sont relles et sont tires trs rapi...</td>\n",
       "      <td>[0.0, 0.0, 0.0, 0.0, 0.0, 0.0, 0.0, 0.0, 0.022...</td>\n",
       "      <td>[-0.02637649, 0.002697029, -0.050253987, -0.02...</td>\n",
       "    </tr>\n",
       "    <tr>\n",
       "      <th>3</th>\n",
       "      <td>3</td>\n",
       "      <td>I'm like entp but idiotic|||Hey boy, do you wa...</td>\n",
       "      <td>intj</td>\n",
       "      <td>im like entp idiotic hey boy want watch twitch...</td>\n",
       "      <td>[im like entp idiotic, hey boy want watch twit...</td>\n",
       "      <td>[0.0, 0.0, 0.0, 0.0, 0.0, 0.0, 0.0, 0.0, 0.0, ...</td>\n",
       "      <td>[-0.0019069636, -0.0014414503, 0.00036121352, ...</td>\n",
       "    </tr>\n",
       "    <tr>\n",
       "      <th>4</th>\n",
       "      <td>4</td>\n",
       "      <td>@kaeshurr1 Give it to @ZargarShanif ... He has...</td>\n",
       "      <td>intj</td>\n",
       "      <td>give pica since childhood say qubool hai dm ge...</td>\n",
       "      <td>[give pica since childhood, say qubool hai dm,...</td>\n",
       "      <td>[0.0, 0.0, 0.0, 0.0, 0.0, 0.0, 0.0427088751511...</td>\n",
       "      <td>[-0.08774337, -0.06754079, -0.03461329, 0.0125...</td>\n",
       "    </tr>\n",
       "  </tbody>\n",
       "</table>\n",
       "</div>"
      ],
      "text/plain": [
       "   Unnamed: 0                                               text label  \\\n",
       "0           0  @Pericles216 @HierBeforeTheAC @Sachinettiyil T...  intj   \n",
       "1           1  @Hispanthicckk Being you makes you look cute||...  intj   \n",
       "2           2  @Alshymi Les balles sont réelles et sont tirée...  intj   \n",
       "3           3  I'm like entp but idiotic|||Hey boy, do you wa...  intj   \n",
       "4           4  @kaeshurr1 Give it to @ZargarShanif ... He has...  intj   \n",
       "\n",
       "                                        cleaned_text  \\\n",
       "0  pope infallible catholic dogma doesnt mean per...   \n",
       "1  makes look cute fun peeling bored less sweetie...   \n",
       "2  les balles sont relles et sont tires trs rapid...   \n",
       "3  im like entp idiotic hey boy want watch twitch...   \n",
       "4  give pica since childhood say qubool hai dm ge...   \n",
       "\n",
       "                              cleaned_text_separated  \\\n",
       "0  [pope infallible catholic dogma doesnt mean, p...   \n",
       "1  [makes look cute, fun peeling, bored, less, sw...   \n",
       "2  [les balles sont relles et sont tires trs rapi...   \n",
       "3  [im like entp idiotic, hey boy want watch twit...   \n",
       "4  [give pica since childhood, say qubool hai dm,...   \n",
       "\n",
       "                                     tfidf_embedding  \\\n",
       "0  [0.0, 0.0, 0.0, 0.0, 0.0, 0.0, 0.0, 0.0, 0.019...   \n",
       "1  [0.0, 0.0, 0.0, 0.0, 0.0, 0.0, 0.0, 0.0, 0.0, ...   \n",
       "2  [0.0, 0.0, 0.0, 0.0, 0.0, 0.0, 0.0, 0.0, 0.022...   \n",
       "3  [0.0, 0.0, 0.0, 0.0, 0.0, 0.0, 0.0, 0.0, 0.0, ...   \n",
       "4  [0.0, 0.0, 0.0, 0.0, 0.0, 0.0, 0.0427088751511...   \n",
       "\n",
       "                                     glove_embedding  \n",
       "0  [-0.04726143, -0.060535315, -0.057487372, 0.00...  \n",
       "1  [-0.049909562, -0.022831392, -0.028013704, -0....  \n",
       "2  [-0.02637649, 0.002697029, -0.050253987, -0.02...  \n",
       "3  [-0.0019069636, -0.0014414503, 0.00036121352, ...  \n",
       "4  [-0.08774337, -0.06754079, -0.03461329, 0.0125...  "
      ]
     },
     "execution_count": 2,
     "metadata": {},
     "output_type": "execute_result"
    }
   ],
   "source": [
    "# df = pd.read_csv(mbti_personality_type_twitter_dataset_path+'/twitter_MBTI.csv')\n",
    "df = pd.read_pickle('cleaned_dataset.pickle')\n",
    "df.head()"
   ]
  },
  {
   "cell_type": "markdown",
   "metadata": {},
   "source": [
    "## Data cleaning"
   ]
  },
  {
   "cell_type": "code",
   "execution_count": 19,
   "metadata": {
    "execution": {
     "iopub.execute_input": "2024-12-09T10:40:43.786760Z",
     "iopub.status.busy": "2024-12-09T10:40:43.786375Z",
     "iopub.status.idle": "2024-12-09T10:40:45.479265Z",
     "shell.execute_reply": "2024-12-09T10:40:45.477721Z",
     "shell.execute_reply.started": "2024-12-09T10:40:43.786726Z"
    },
    "trusted": true
   },
   "outputs": [
    {
     "name": "stderr",
     "output_type": "stream",
     "text": [
      "[nltk_data] Downloading package stopwords to\n",
      "[nltk_data]     /home/guilherme/nltk_data...\n",
      "[nltk_data]   Package stopwords is already up-to-date!\n",
      "[nltk_data] Downloading package punkt to /home/guilherme/nltk_data...\n",
      "[nltk_data]   Package punkt is already up-to-date!\n",
      "[nltk_data] Downloading package punkt_tab to\n",
      "[nltk_data]     /home/guilherme/nltk_data...\n",
      "[nltk_data]   Package punkt_tab is already up-to-date!\n"
     ]
    }
   ],
   "source": [
    "from nltk.corpus import stopwords\n",
    "from nltk.tokenize import word_tokenize\n",
    "import nltk\n",
    "import re\n",
    "\n",
    "# Download NLTK data files (if not already done)\n",
    "nltk.download('stopwords')\n",
    "nltk.download('punkt')\n",
    "nltk.download('punkt_tab')\n",
    "\n",
    "# Define stopwords (optional)\n",
    "stop_words = set(stopwords.words('english'))\n",
    "\n",
    "# Function to clean a single tweet\n",
    "def clean_tweet(tweet):\n",
    "    # Remove HTML tags\n",
    "    tweet = re.sub(r'<.*?>', '', tweet)\n",
    "    # Remove URLs\n",
    "    tweet = re.sub(r'http\\S+|www\\S+', '', tweet)\n",
    "    # Remove mentions\n",
    "    tweet = re.sub(r'@\\w+', '', tweet)\n",
    "    # Remove special characters and digits\n",
    "    tweet = re.sub(r'[^A-Za-z\\s]', '', tweet)\n",
    "    # Convert to lowercase\n",
    "    tweet = tweet.lower()\n",
    "    # Tokenize and remove stopwords (optional)\n",
    "    tokens = word_tokenize(tweet)\n",
    "    cleaned_tweet = ' '.join([word for word in tokens if word not in stop_words])\n",
    "    return cleaned_tweet\n",
    "\n",
    "# Split tweets by '|||' and clean them\n",
    "def process_user_tweets(tweets):\n",
    "    # Split tweets\n",
    "    tweet_list = tweets.split('|||')\n",
    "    # Clean each tweet\n",
    "    cleaned_tweets = [clean_tweet(tweet) for tweet in tweet_list]\n",
    "    # Combine cleaned tweets\n",
    "    return ' '.join(cleaned_tweets)"
   ]
  },
  {
   "cell_type": "code",
   "execution_count": 31,
   "metadata": {
    "execution": {
     "iopub.execute_input": "2024-12-09T10:40:45.586340Z",
     "iopub.status.busy": "2024-12-09T10:40:45.585768Z",
     "iopub.status.idle": "2024-12-09T10:42:33.658924Z",
     "shell.execute_reply": "2024-12-09T10:42:33.657661Z",
     "shell.execute_reply.started": "2024-12-09T10:40:45.586296Z"
    },
    "trusted": true
   },
   "outputs": [
    {
     "data": {
      "text/html": [
       "<div>\n",
       "<style scoped>\n",
       "    .dataframe tbody tr th:only-of-type {\n",
       "        vertical-align: middle;\n",
       "    }\n",
       "\n",
       "    .dataframe tbody tr th {\n",
       "        vertical-align: top;\n",
       "    }\n",
       "\n",
       "    .dataframe thead th {\n",
       "        text-align: right;\n",
       "    }\n",
       "</style>\n",
       "<table border=\"1\" class=\"dataframe\">\n",
       "  <thead>\n",
       "    <tr style=\"text-align: right;\">\n",
       "      <th></th>\n",
       "      <th>Unnamed: 0</th>\n",
       "      <th>text</th>\n",
       "      <th>label</th>\n",
       "      <th>cleaned_text</th>\n",
       "    </tr>\n",
       "  </thead>\n",
       "  <tbody>\n",
       "    <tr>\n",
       "      <th>0</th>\n",
       "      <td>0</td>\n",
       "      <td>@Pericles216 @HierBeforeTheAC @Sachinettiyil T...</td>\n",
       "      <td>intj</td>\n",
       "      <td>pope infallible catholic dogma doesnt mean per...</td>\n",
       "    </tr>\n",
       "    <tr>\n",
       "      <th>1</th>\n",
       "      <td>1</td>\n",
       "      <td>@Hispanthicckk Being you makes you look cute||...</td>\n",
       "      <td>intj</td>\n",
       "      <td>makes look cute fun peeling bored less sweetie...</td>\n",
       "    </tr>\n",
       "    <tr>\n",
       "      <th>2</th>\n",
       "      <td>2</td>\n",
       "      <td>@Alshymi Les balles sont réelles et sont tirée...</td>\n",
       "      <td>intj</td>\n",
       "      <td>les balles sont relles et sont tires trs rapid...</td>\n",
       "    </tr>\n",
       "    <tr>\n",
       "      <th>3</th>\n",
       "      <td>3</td>\n",
       "      <td>I'm like entp but idiotic|||Hey boy, do you wa...</td>\n",
       "      <td>intj</td>\n",
       "      <td>im like entp idiotic hey boy want watch twitch...</td>\n",
       "    </tr>\n",
       "    <tr>\n",
       "      <th>4</th>\n",
       "      <td>4</td>\n",
       "      <td>@kaeshurr1 Give it to @ZargarShanif ... He has...</td>\n",
       "      <td>intj</td>\n",
       "      <td>give pica since childhood say qubool hai dm ge...</td>\n",
       "    </tr>\n",
       "  </tbody>\n",
       "</table>\n",
       "</div>"
      ],
      "text/plain": [
       "   Unnamed: 0                                               text label  \\\n",
       "0           0  @Pericles216 @HierBeforeTheAC @Sachinettiyil T...  intj   \n",
       "1           1  @Hispanthicckk Being you makes you look cute||...  intj   \n",
       "2           2  @Alshymi Les balles sont réelles et sont tirée...  intj   \n",
       "3           3  I'm like entp but idiotic|||Hey boy, do you wa...  intj   \n",
       "4           4  @kaeshurr1 Give it to @ZargarShanif ... He has...  intj   \n",
       "\n",
       "                                        cleaned_text  \n",
       "0  pope infallible catholic dogma doesnt mean per...  \n",
       "1  makes look cute fun peeling bored less sweetie...  \n",
       "2  les balles sont relles et sont tires trs rapid...  \n",
       "3  im like entp idiotic hey boy want watch twitch...  \n",
       "4  give pica since childhood say qubool hai dm ge...  "
      ]
     },
     "execution_count": 31,
     "metadata": {},
     "output_type": "execute_result"
    }
   ],
   "source": [
    "# Apply cleaning to the dataset\n",
    "df['cleaned_text'] = df['text'].apply(process_user_tweets)\n",
    "df.head()"
   ]
  },
  {
   "cell_type": "code",
   "execution_count": 32,
   "metadata": {
    "execution": {
     "iopub.execute_input": "2024-12-09T10:42:33.661581Z",
     "iopub.status.busy": "2024-12-09T10:42:33.661149Z",
     "iopub.status.idle": "2024-12-09T10:44:21.899658Z",
     "shell.execute_reply": "2024-12-09T10:44:21.898576Z",
     "shell.execute_reply.started": "2024-12-09T10:42:33.661534Z"
    },
    "trusted": true
   },
   "outputs": [
    {
     "data": {
      "text/html": [
       "<div>\n",
       "<style scoped>\n",
       "    .dataframe tbody tr th:only-of-type {\n",
       "        vertical-align: middle;\n",
       "    }\n",
       "\n",
       "    .dataframe tbody tr th {\n",
       "        vertical-align: top;\n",
       "    }\n",
       "\n",
       "    .dataframe thead th {\n",
       "        text-align: right;\n",
       "    }\n",
       "</style>\n",
       "<table border=\"1\" class=\"dataframe\">\n",
       "  <thead>\n",
       "    <tr style=\"text-align: right;\">\n",
       "      <th></th>\n",
       "      <th>Unnamed: 0</th>\n",
       "      <th>text</th>\n",
       "      <th>label</th>\n",
       "      <th>cleaned_text</th>\n",
       "      <th>cleaned_text_separated</th>\n",
       "    </tr>\n",
       "  </thead>\n",
       "  <tbody>\n",
       "    <tr>\n",
       "      <th>0</th>\n",
       "      <td>0</td>\n",
       "      <td>@Pericles216 @HierBeforeTheAC @Sachinettiyil T...</td>\n",
       "      <td>intj</td>\n",
       "      <td>pope infallible catholic dogma doesnt mean per...</td>\n",
       "      <td>[pope infallible catholic dogma doesnt mean, p...</td>\n",
       "    </tr>\n",
       "    <tr>\n",
       "      <th>1</th>\n",
       "      <td>1</td>\n",
       "      <td>@Hispanthicckk Being you makes you look cute||...</td>\n",
       "      <td>intj</td>\n",
       "      <td>makes look cute fun peeling bored less sweetie...</td>\n",
       "      <td>[makes look cute, fun peeling, bored, less, sw...</td>\n",
       "    </tr>\n",
       "    <tr>\n",
       "      <th>2</th>\n",
       "      <td>2</td>\n",
       "      <td>@Alshymi Les balles sont réelles et sont tirée...</td>\n",
       "      <td>intj</td>\n",
       "      <td>les balles sont relles et sont tires trs rapid...</td>\n",
       "      <td>[les balles sont relles et sont tires trs rapi...</td>\n",
       "    </tr>\n",
       "    <tr>\n",
       "      <th>3</th>\n",
       "      <td>3</td>\n",
       "      <td>I'm like entp but idiotic|||Hey boy, do you wa...</td>\n",
       "      <td>intj</td>\n",
       "      <td>im like entp idiotic hey boy want watch twitch...</td>\n",
       "      <td>[im like entp idiotic, hey boy want watch twit...</td>\n",
       "    </tr>\n",
       "    <tr>\n",
       "      <th>4</th>\n",
       "      <td>4</td>\n",
       "      <td>@kaeshurr1 Give it to @ZargarShanif ... He has...</td>\n",
       "      <td>intj</td>\n",
       "      <td>give pica since childhood say qubool hai dm ge...</td>\n",
       "      <td>[give pica since childhood, say qubool hai dm,...</td>\n",
       "    </tr>\n",
       "  </tbody>\n",
       "</table>\n",
       "</div>"
      ],
      "text/plain": [
       "   Unnamed: 0                                               text label  \\\n",
       "0           0  @Pericles216 @HierBeforeTheAC @Sachinettiyil T...  intj   \n",
       "1           1  @Hispanthicckk Being you makes you look cute||...  intj   \n",
       "2           2  @Alshymi Les balles sont réelles et sont tirée...  intj   \n",
       "3           3  I'm like entp but idiotic|||Hey boy, do you wa...  intj   \n",
       "4           4  @kaeshurr1 Give it to @ZargarShanif ... He has...  intj   \n",
       "\n",
       "                                        cleaned_text  \\\n",
       "0  pope infallible catholic dogma doesnt mean per...   \n",
       "1  makes look cute fun peeling bored less sweetie...   \n",
       "2  les balles sont relles et sont tires trs rapid...   \n",
       "3  im like entp idiotic hey boy want watch twitch...   \n",
       "4  give pica since childhood say qubool hai dm ge...   \n",
       "\n",
       "                              cleaned_text_separated  \n",
       "0  [pope infallible catholic dogma doesnt mean, p...  \n",
       "1  [makes look cute, fun peeling, bored, less, sw...  \n",
       "2  [les balles sont relles et sont tires trs rapi...  \n",
       "3  [im like entp idiotic, hey boy want watch twit...  \n",
       "4  [give pica since childhood, say qubool hai dm,...  "
      ]
     },
     "execution_count": 32,
     "metadata": {},
     "output_type": "execute_result"
    }
   ],
   "source": [
    "df['cleaned_text_separated'] = df['text'].map(lambda x: x.split('|||')).\\\n",
    "                                apply(lambda x: [clean_tweet(tweet) for tweet in x])\n",
    "df.head()"
   ]
  },
  {
   "cell_type": "markdown",
   "metadata": {},
   "source": [
    "### Tokenization"
   ]
  },
  {
   "cell_type": "code",
   "execution_count": 7,
   "metadata": {
    "execution": {
     "iopub.execute_input": "2024-12-09T10:44:21.901605Z",
     "iopub.status.busy": "2024-12-09T10:44:21.901165Z",
     "iopub.status.idle": "2024-12-09T10:46:11.038257Z",
     "shell.execute_reply": "2024-12-09T10:46:11.036871Z",
     "shell.execute_reply.started": "2024-12-09T10:44:21.901559Z"
    },
    "trusted": true
   },
   "outputs": [
    {
     "name": "stdout",
     "output_type": "stream",
     "text": [
      "                              tokens_aggregated_nltk  \\\n",
      "0  [pope, infallible, catholic, dogma, doesnt, me...   \n",
      "1  [makes, look, cute, fun, peeling, bored, less,...   \n",
      "2  [les, balles, sont, relles, et, sont, tires, t...   \n",
      "3  [im, like, entp, idiotic, hey, boy, want, watc...   \n",
      "4  [give, pica, since, childhood, say, qubool, ha...   \n",
      "\n",
      "                               tokens_separated_nltk  \n",
      "0  [[pope, infallible, catholic, dogma, doesnt, m...  \n",
      "1  [[makes, look, cute], [fun, peeling], [bored],...  \n",
      "2  [[les, balles, sont, relles, et, sont, tires, ...  \n",
      "3  [[im, like, entp, idiotic], [hey, boy, want, w...  \n",
      "4  [[give, pica, since, childhood], [say, qubool,...  \n"
     ]
    }
   ],
   "source": [
    "from nltk.tokenize import word_tokenize\n",
    "\n",
    "# Tokenize aggregated tweets\n",
    "df['tokens_aggregated_nltk'] = df['cleaned_text'].apply(word_tokenize)\n",
    "\n",
    "# Tokenize separated tweets\n",
    "df['tokens_separated_nltk'] = df['cleaned_text_separated'].apply(\n",
    "    lambda tweet_list: [word_tokenize(tweet) for tweet in tweet_list]\n",
    ")\n",
    "\n",
    "print(df[['tokens_aggregated_nltk', 'tokens_separated_nltk']].head())"
   ]
  },
  {
   "cell_type": "code",
   "execution_count": 8,
   "metadata": {
    "execution": {
     "iopub.execute_input": "2024-12-09T10:46:11.041390Z",
     "iopub.status.busy": "2024-12-09T10:46:11.040992Z",
     "iopub.status.idle": "2024-12-09T10:48:10.434539Z",
     "shell.execute_reply": "2024-12-09T10:48:10.433146Z",
     "shell.execute_reply.started": "2024-12-09T10:46:11.041356Z"
    },
    "trusted": true
   },
   "outputs": [
    {
     "data": {
      "application/vnd.jupyter.widget-view+json": {
       "model_id": "eb57f187f21f480eb71d06e635753334",
       "version_major": 2,
       "version_minor": 0
      },
      "text/plain": [
       "tokenizer_config.json:   0%|          | 0.00/48.0 [00:00<?, ?B/s]"
      ]
     },
     "metadata": {},
     "output_type": "display_data"
    },
    {
     "data": {
      "application/vnd.jupyter.widget-view+json": {
       "model_id": "eff48b3a02c7458684b4f9350530bbce",
       "version_major": 2,
       "version_minor": 0
      },
      "text/plain": [
       "config.json:   0%|          | 0.00/570 [00:00<?, ?B/s]"
      ]
     },
     "metadata": {},
     "output_type": "display_data"
    },
    {
     "data": {
      "application/vnd.jupyter.widget-view+json": {
       "model_id": "25222a96daa64026b1d4ba892a980620",
       "version_major": 2,
       "version_minor": 0
      },
      "text/plain": [
       "vocab.txt:   0%|          | 0.00/232k [00:00<?, ?B/s]"
      ]
     },
     "metadata": {},
     "output_type": "display_data"
    },
    {
     "data": {
      "application/vnd.jupyter.widget-view+json": {
       "model_id": "f06fc2505e7842459d6af34b3b027f4f",
       "version_major": 2,
       "version_minor": 0
      },
      "text/plain": [
       "tokenizer.json:   0%|          | 0.00/466k [00:00<?, ?B/s]"
      ]
     },
     "metadata": {},
     "output_type": "display_data"
    },
    {
     "name": "stdout",
     "output_type": "stream",
     "text": [
      "                              tokens_aggregated_bert  \\\n",
      "0  [101, 4831, 1999, 13976, 7028, 3234, 3899, 286...   \n",
      "1  [101, 3084, 2298, 10140, 4569, 28241, 11471, 2...   \n",
      "2  [101, 4649, 3608, 2229, 2365, 2102, 2128, 2043...   \n",
      "3  [101, 10047, 2066, 4372, 25856, 10041, 2594, 4...   \n",
      "4  [101, 2507, 27263, 2050, 2144, 5593, 2360, 242...   \n",
      "\n",
      "                               tokens_separated_bert  \n",
      "0  [[101, 4831, 1999, 13976, 7028, 3234, 3899, 28...  \n",
      "1  [[101, 3084, 2298, 10140, 102], [101, 4569, 28...  \n",
      "2  [[101, 4649, 3608, 2229, 2365, 2102, 2128, 204...  \n",
      "3  [[101, 10047, 2066, 4372, 25856, 10041, 2594, ...  \n",
      "4  [[101, 2507, 27263, 2050, 2144, 5593, 102], [1...  \n"
     ]
    }
   ],
   "source": [
    "from transformers import AutoTokenizer\n",
    "\n",
    "# Load a pre-trained tokenizer (e.g., BERT tokenizer)\n",
    "tokenizer = AutoTokenizer.from_pretrained(\"bert-base-uncased\")\n",
    "\n",
    "# Tokenize aggregated tweets\n",
    "df['tokens_aggregated_bert'] = df['cleaned_text'].apply(\n",
    "    lambda text: tokenizer.encode(text, max_length=512, truncation=True)\n",
    ")\n",
    "\n",
    "# Tokenize separated tweets without truncation (each tweet is likely shorter)\n",
    "df['tokens_separated_bert'] = df['cleaned_text_separated'].apply(\n",
    "    lambda tweet_list: [tokenizer.encode(tweet, max_length=512, truncation=True) for tweet in tweet_list]\n",
    ")\n",
    "\n",
    "print(df[['tokens_aggregated_bert', 'tokens_separated_bert']].head())\n"
   ]
  },
  {
   "cell_type": "markdown",
   "metadata": {},
   "source": [
    "### Embeddings"
   ]
  },
  {
   "cell_type": "code",
   "execution_count": 33,
   "metadata": {
    "execution": {
     "iopub.execute_input": "2024-12-09T10:48:10.436808Z",
     "iopub.status.busy": "2024-12-09T10:48:10.436255Z",
     "iopub.status.idle": "2024-12-09T10:48:16.862878Z",
     "shell.execute_reply": "2024-12-09T10:48:16.861760Z",
     "shell.execute_reply.started": "2024-12-09T10:48:10.436771Z"
    },
    "trusted": true
   },
   "outputs": [
    {
     "name": "stdout",
     "output_type": "stream",
     "text": [
      "                                        cleaned_text  \\\n",
      "0  pope infallible catholic dogma doesnt mean per...   \n",
      "1  makes look cute fun peeling bored less sweetie...   \n",
      "2  les balles sont relles et sont tires trs rapid...   \n",
      "3  im like entp idiotic hey boy want watch twitch...   \n",
      "4  give pica since childhood say qubool hai dm ge...   \n",
      "\n",
      "                                     tfidf_embedding  \n",
      "0  [0.0, 0.0, 0.0, 0.0, 0.0, 0.0, 0.0, 0.0, 0.019...  \n",
      "1  [0.0, 0.0, 0.0, 0.0, 0.0, 0.0, 0.0, 0.0, 0.0, ...  \n",
      "2  [0.0, 0.0, 0.0, 0.0, 0.0, 0.0, 0.0, 0.0, 0.022...  \n",
      "3  [0.0, 0.0, 0.0, 0.0, 0.0, 0.0, 0.0, 0.0, 0.0, ...  \n",
      "4  [0.0, 0.0, 0.0, 0.0, 0.0, 0.0, 0.0427088751511...  \n"
     ]
    }
   ],
   "source": [
    "from sklearn.feature_extraction.text import TfidfVectorizer\n",
    "\n",
    "# Use aggregated tweets for TF-IDF\n",
    "vectorizer = TfidfVectorizer(max_features=5000)  # Limit to top 5000 features\n",
    "tfidf_embeddings = vectorizer.fit_transform(df['cleaned_text'])\n",
    "\n",
    "# Save embeddings to DataFrame\n",
    "df['tfidf_embedding'] = list(tfidf_embeddings.toarray())\n",
    "\n",
    "print(df[['cleaned_text', 'tfidf_embedding']].head())"
   ]
  },
  {
   "cell_type": "code",
   "execution_count": 34,
   "metadata": {
    "execution": {
     "iopub.execute_input": "2024-12-09T10:48:16.864490Z",
     "iopub.status.busy": "2024-12-09T10:48:16.864188Z",
     "iopub.status.idle": "2024-12-09T10:50:07.758152Z",
     "shell.execute_reply": "2024-12-09T10:50:07.756910Z",
     "shell.execute_reply.started": "2024-12-09T10:48:16.864461Z"
    },
    "trusted": true
   },
   "outputs": [
    {
     "name": "stdout",
     "output_type": "stream",
     "text": [
      "                                        cleaned_text  \\\n",
      "0  pope infallible catholic dogma doesnt mean per...   \n",
      "1  makes look cute fun peeling bored less sweetie...   \n",
      "2  les balles sont relles et sont tires trs rapid...   \n",
      "3  im like entp idiotic hey boy want watch twitch...   \n",
      "4  give pica since childhood say qubool hai dm ge...   \n",
      "\n",
      "                                     glove_embedding  \n",
      "0  [-0.04726143, -0.060535315, -0.057487372, 0.00...  \n",
      "1  [-0.049909562, -0.022831392, -0.028013704, -0....  \n",
      "2  [-0.02637649, 0.002697029, -0.050253987, -0.02...  \n",
      "3  [-0.0019069636, -0.0014414503, 0.00036121352, ...  \n",
      "4  [-0.08774337, -0.06754079, -0.03461329, 0.0125...  \n"
     ]
    }
   ],
   "source": [
    "import numpy as np\n",
    "from gensim.models import KeyedVectors\n",
    "\n",
    "# Load pre-trained GloVe vectors (download from https://nlp.stanford.edu/projects/glove/)\n",
    "glove_path = glove6b300dtxt_path + '/glove.6B.300d.txt'  # Adjust path and file size as needed\n",
    "word_vectors = KeyedVectors.load_word2vec_format(glove_path, binary=False, no_header=True)\n",
    "\n",
    "# Function to get sentence embeddings by averaging word embeddings\n",
    "def get_sentence_embedding(text, word_vectors):\n",
    "    tokens = text.split()  # Simple split, adapt if needed\n",
    "    embeddings = [word_vectors[word] for word in tokens if word in word_vectors]\n",
    "    if embeddings:\n",
    "        return np.mean(embeddings, axis=0)\n",
    "    else:\n",
    "        return np.zeros(word_vectors.vector_size)\n",
    "\n",
    "# Apply to aggregated tweets\n",
    "df['glove_embedding'] = df['cleaned_text'].apply(\n",
    "    lambda text: get_sentence_embedding(text, word_vectors)\n",
    ")\n",
    "\n",
    "print(df[['cleaned_text', 'glove_embedding']].head())\n"
   ]
  },
  {
   "cell_type": "code",
   "execution_count": null,
   "metadata": {
    "execution": {
     "iopub.execute_input": "2024-12-08T23:54:57.060846Z",
     "iopub.status.busy": "2024-12-08T23:54:57.059980Z"
    },
    "trusted": true
   },
   "outputs": [
    {
     "data": {
      "application/vnd.jupyter.widget-view+json": {
       "model_id": "d59d683908ed47eea914fa5092f0276e",
       "version_major": 2,
       "version_minor": 0
      },
      "text/plain": [
       "model.safetensors:   0%|          | 0.00/440M [00:00<?, ?B/s]"
      ]
     },
     "metadata": {},
     "output_type": "display_data"
    }
   ],
   "source": [
    "# from transformers import AutoTokenizer, AutoModel\n",
    "# import torch\n",
    "\n",
    "# # Load a pre-trained BERT model and tokenizer\n",
    "# model_name = \"bert-base-uncased\"\n",
    "# tokenizer = AutoTokenizer.from_pretrained(model_name)\n",
    "# model = AutoModel.from_pretrained(model_name)\n",
    "\n",
    "# # Function to get BERT embeddings for aggregated tweets\n",
    "# def get_bert_embedding(text):\n",
    "#     inputs = tokenizer(text, return_tensors=\"pt\", max_length=512, truncation=True, padding=\"max_length\")\n",
    "#     with torch.no_grad():\n",
    "#         outputs = model(**inputs)\n",
    "#     # Take the CLS token's embedding for classification\n",
    "#     cls_embedding = outputs.last_hidden_state[:, 0, :].squeeze()\n",
    "#     return cls_embedding.numpy()\n",
    "\n",
    "# # Apply to aggregated tweets\n",
    "# df['bert_embedding'] = df['cleaned_text'].apply(get_bert_embedding)\n",
    "\n",
    "# print(df[['cleaned_text', 'bert_embedding']].head())\n"
   ]
  },
  {
   "cell_type": "code",
   "execution_count": 35,
   "metadata": {
    "execution": {
     "iopub.execute_input": "2024-12-09T10:50:07.760236Z",
     "iopub.status.busy": "2024-12-09T10:50:07.759794Z",
     "iopub.status.idle": "2024-12-09T10:50:38.382623Z",
     "shell.execute_reply": "2024-12-09T10:50:38.381499Z",
     "shell.execute_reply.started": "2024-12-09T10:50:07.760201Z"
    },
    "trusted": true
   },
   "outputs": [
    {
     "name": "stdout",
     "output_type": "stream",
     "text": [
      "DataFrame saved to cleaned_dataset.pickle\n"
     ]
    }
   ],
   "source": [
    "# Save the DataFrame to a CSV file\n",
    "output_path = 'cleaned_dataset.pickle'\n",
    "df.to_pickle(output_path)\n",
    "\n",
    "print(f\"DataFrame saved to {output_path}\")"
   ]
  },
  {
   "cell_type": "markdown",
   "metadata": {},
   "source": [
    "### One Hot Encoding"
   ]
  },
  {
   "cell_type": "code",
   "execution_count": 3,
   "metadata": {
    "execution": {
     "iopub.execute_input": "2024-12-09T11:02:32.277906Z",
     "iopub.status.busy": "2024-12-09T11:02:32.277156Z",
     "iopub.status.idle": "2024-12-09T11:02:32.298073Z",
     "shell.execute_reply": "2024-12-09T11:02:32.296773Z",
     "shell.execute_reply.started": "2024-12-09T11:02:32.277865Z"
    },
    "trusted": true
   },
   "outputs": [],
   "source": [
    "from sklearn.preprocessing import OneHotEncoder\n",
    "\n",
    "# Assuming 'label' column exists in the dataframe\n",
    "encoder = OneHotEncoder(sparse_output=False)\n",
    "labels_one_hot = encoder.fit_transform(df[['label']])\n",
    "\n",
    "# Add to the dataframe or save separately\n",
    "df['label_one_hot'] = list(labels_one_hot)"
   ]
  },
  {
   "cell_type": "markdown",
   "metadata": {},
   "source": [
    "## Pipeline"
   ]
  },
  {
   "cell_type": "markdown",
   "metadata": {},
   "source": [
    "#### Addressing data imbalance"
   ]
  },
  {
   "cell_type": "code",
   "execution_count": 15,
   "metadata": {
    "execution": {
     "iopub.execute_input": "2024-12-09T11:03:10.844417Z",
     "iopub.status.busy": "2024-12-09T11:03:10.843946Z",
     "iopub.status.idle": "2024-12-09T11:03:10.857428Z",
     "shell.execute_reply": "2024-12-09T11:03:10.856008Z",
     "shell.execute_reply.started": "2024-12-09T11:03:10.844375Z"
    },
    "trusted": true
   },
   "outputs": [
    {
     "name": "stdout",
     "output_type": "stream",
     "text": [
      "label\n",
      "infp    1282\n",
      "infj    1057\n",
      "intp     811\n",
      "intj     781\n",
      "enfp     729\n",
      "entp     577\n",
      "enfj     518\n",
      "isfp     367\n",
      "isfj     364\n",
      "istp     327\n",
      "entj     279\n",
      "istj     259\n",
      "esfp     174\n",
      "esfj     105\n",
      "estp     100\n",
      "estj      81\n",
      "Name: count, dtype: int64\n"
     ]
    }
   ],
   "source": [
    "# Check the distribution of classes\n",
    "print(df['label'].value_counts())"
   ]
  },
  {
   "cell_type": "code",
   "execution_count": 23,
   "metadata": {
    "execution": {
     "iopub.execute_input": "2024-12-09T11:08:01.129165Z",
     "iopub.status.busy": "2024-12-09T11:08:01.128746Z",
     "iopub.status.idle": "2024-12-09T11:08:01.134618Z",
     "shell.execute_reply": "2024-12-09T11:08:01.133445Z",
     "shell.execute_reply.started": "2024-12-09T11:08:01.129131Z"
    },
    "trusted": true
   },
   "outputs": [],
   "source": [
    "# from imblearn.over_sampling import SMOTE\n",
    "# from imblearn.under_sampling import RandomUnderSampler\n",
    "# from imblearn.pipeline import Pipeline as ImbPipeline\n",
    "\n",
    "# # Choose between SMOTE or RandomUnderSampler\n",
    "# oversample = SMOTE(random_state=42)  # Use for oversampling\n",
    "# undersample = RandomUnderSampler(random_state=42)  # Use for undersampling\n",
    "\n",
    "# # Example: Oversample\n",
    "# X = df['tfidf_embedding']  # Use your tfidf embedding matrix\n",
    "# y = df['label']  # Original labels\n",
    "# X_resampled, y_resampled = oversample.fit_resample(X, y)\n",
    "\n",
    "# # Encode labels as one-hot\n",
    "# y_resampled_one_hot = encoder.fit_transform(y_resampled.values.reshape(-1, 1))\n"
   ]
  },
  {
   "cell_type": "code",
   "execution_count": 4,
   "metadata": {
    "execution": {
     "iopub.execute_input": "2024-12-09T11:09:38.307122Z",
     "iopub.status.busy": "2024-12-09T11:09:38.306646Z",
     "iopub.status.idle": "2024-12-09T11:09:41.152300Z",
     "shell.execute_reply": "2024-12-09T11:09:41.151155Z",
     "shell.execute_reply.started": "2024-12-09T11:09:38.307085Z"
    },
    "trusted": true
   },
   "outputs": [
    {
     "name": "stderr",
     "output_type": "stream",
     "text": [
      "/home/guilherme/Documents/mestrado/disciplinas/inteligencia-artificial/projeto-final/ia-2024-2/lib/python3.9/site-packages/sklearn/base.py:474: FutureWarning: `BaseEstimator._validate_data` is deprecated in 1.6 and will be removed in 1.7. Use `sklearn.utils.validation.validate_data` instead. This function becomes public and is part of the scikit-learn developer API.\n",
      "  warnings.warn(\n",
      "/home/guilherme/Documents/mestrado/disciplinas/inteligencia-artificial/projeto-final/ia-2024-2/lib/python3.9/site-packages/sklearn/utils/_tags.py:354: FutureWarning: The SMOTE or classes from which it inherits use `_get_tags` and `_more_tags`. Please define the `__sklearn_tags__` method, or inherit from `sklearn.base.BaseEstimator` and/or other appropriate mixins such as `sklearn.base.TransformerMixin`, `sklearn.base.ClassifierMixin`, `sklearn.base.RegressorMixin`, and `sklearn.base.OutlierMixin`. From scikit-learn 1.7, not defining `__sklearn_tags__` will raise an error.\n",
      "  warnings.warn(\n"
     ]
    },
    {
     "name": "stdout",
     "output_type": "stream",
     "text": [
      "Resampled X shape: (20512, 5000)\n",
      "Resampled y distribution: (array(['enfj', 'enfp', 'entj', 'entp', 'esfj', 'esfp', 'estj', 'estp',\n",
      "       'infj', 'infp', 'intj', 'intp', 'isfj', 'isfp', 'istj', 'istp'],\n",
      "      dtype=object), array([1282, 1282, 1282, 1282, 1282, 1282, 1282, 1282, 1282, 1282, 1282,\n",
      "       1282, 1282, 1282, 1282, 1282]))\n"
     ]
    }
   ],
   "source": [
    "from imblearn.over_sampling import SMOTE\n",
    "import numpy as np\n",
    "\n",
    "# Convert tfidf_embedding to NumPy array\n",
    "X = np.array(df['tfidf_embedding'].tolist())\n",
    "\n",
    "# Ensure labels are categorical\n",
    "y = df['label']\n",
    "\n",
    "# Apply SMOTE for oversampling\n",
    "oversample = SMOTE(random_state=42)\n",
    "X_resampled, y_resampled = oversample.fit_resample(X, y)\n",
    "\n",
    "# Encode labels as one-hot\n",
    "y_resampled_one_hot = encoder.fit_transform(y_resampled.values.reshape(-1, 1))\n",
    "\n",
    "print(\"Resampled X shape:\", X_resampled.shape)\n",
    "print(\"Resampled y distribution:\", np.unique(y_resampled, return_counts=True))\n"
   ]
  },
  {
   "cell_type": "markdown",
   "metadata": {},
   "source": [
    "#### Classical machine learning pipeline"
   ]
  },
  {
   "cell_type": "code",
   "execution_count": 53,
   "metadata": {
    "execution": {
     "iopub.execute_input": "2024-12-09T11:10:03.018456Z",
     "iopub.status.busy": "2024-12-09T11:10:03.016741Z"
    },
    "trusted": true
   },
   "outputs": [],
   "source": [
    "from sklearn.model_selection import train_test_split, GridSearchCV\n",
    "from sklearn.linear_model import LogisticRegression\n",
    "from sklearn.svm import SVC\n",
    "from sklearn.ensemble import RandomForestClassifier\n",
    "from xgboost import XGBClassifier\n",
    "from sklearn.metrics import classification_report\n",
    "\n",
    "# Split the data\n",
    "X_train_oh, X_test_oh, y_train_oh, y_test_oh = train_test_split(\n",
    "    X_resampled, y_resampled_one_hot, test_size=0.2, random_state=42\n",
    ")\n",
    "X_train, X_test, y_train, y_test = train_test_split(\n",
    "    X_resampled, y_resampled, test_size=0.2, random_state=42\n",
    ")\n",
    "\n",
    "# Define candidate models and their hyperparameters\n",
    "param_grid = [\n",
    "    {\n",
    "        'model': [LogisticRegression()],\n",
    "        'model__penalty': ['l2'],\n",
    "        'model__C': [0.1, 1.0, 10.0],\n",
    "        'model__solver': ['lbfgs'],\n",
    "    },\n",
    "    # {\n",
    "    #     'model': [SVC()],\n",
    "    #     'model__kernel': ['linear', 'rbf'],\n",
    "    #     'model__C': [0.1, 1.0, 10.0],\n",
    "    # },\n",
    "]\n",
    "\n",
    "param_grid_oh = [\n",
    "    {\n",
    "        'model': [RandomForestClassifier()],\n",
    "        'model__n_estimators': [100, 200],\n",
    "        'model__max_depth': [None, 10, 20],\n",
    "    },\n",
    "    {\n",
    "        'model': [XGBClassifier(use_label_encoder=False, eval_metric='mlogloss', tree_method='gpu_hist')],\n",
    "        'model__n_estimators': [100, 200],\n",
    "        'model__learning_rate': [0.01, 0.1],\n",
    "        'model__max_depth': [3, 6],\n",
    "    },\n",
    "]"
   ]
  },
  {
   "cell_type": "code",
   "execution_count": 7,
   "metadata": {},
   "outputs": [
    {
     "name": "stdout",
     "output_type": "stream",
     "text": [
      "Fitting 3 folds for each of 3 candidates, totalling 9 fits\n",
      "[CV 1/3] END model=LogisticRegression(), model__C=0.1, model__penalty=l2, model__solver=lbfgs;, score=0.469 total time=   5.3s\n",
      "[CV 2/3] END model=LogisticRegression(), model__C=0.1, model__penalty=l2, model__solver=lbfgs;, score=0.487 total time=   4.7s\n",
      "[CV 3/3] END model=LogisticRegression(), model__C=0.1, model__penalty=l2, model__solver=lbfgs;, score=0.473 total time=   4.9s\n",
      "[CV 1/3] END model=LogisticRegression(), model__C=1.0, model__penalty=l2, model__solver=lbfgs;, score=0.701 total time=  24.2s\n",
      "[CV 2/3] END model=LogisticRegression(), model__C=1.0, model__penalty=l2, model__solver=lbfgs;, score=0.710 total time=  19.0s\n",
      "[CV 3/3] END model=LogisticRegression(), model__C=1.0, model__penalty=l2, model__solver=lbfgs;, score=0.713 total time=  19.9s\n"
     ]
    },
    {
     "name": "stderr",
     "output_type": "stream",
     "text": [
      "/home/guilherme/Documents/mestrado/disciplinas/inteligencia-artificial/projeto-final/ia-2024-2/lib/python3.9/site-packages/sklearn/linear_model/_logistic.py:465: ConvergenceWarning: lbfgs failed to converge (status=1):\n",
      "STOP: TOTAL NO. of ITERATIONS REACHED LIMIT.\n",
      "\n",
      "Increase the number of iterations (max_iter) or scale the data as shown in:\n",
      "    https://scikit-learn.org/stable/modules/preprocessing.html\n",
      "Please also refer to the documentation for alternative solver options:\n",
      "    https://scikit-learn.org/stable/modules/linear_model.html#logistic-regression\n",
      "  n_iter_i = _check_optimize_result(\n"
     ]
    },
    {
     "name": "stdout",
     "output_type": "stream",
     "text": [
      "[CV 1/3] END model=LogisticRegression(), model__C=10.0, model__penalty=l2, model__solver=lbfgs;, score=0.801 total time=  28.6s\n"
     ]
    },
    {
     "name": "stderr",
     "output_type": "stream",
     "text": [
      "/home/guilherme/Documents/mestrado/disciplinas/inteligencia-artificial/projeto-final/ia-2024-2/lib/python3.9/site-packages/sklearn/linear_model/_logistic.py:465: ConvergenceWarning: lbfgs failed to converge (status=1):\n",
      "STOP: TOTAL NO. of ITERATIONS REACHED LIMIT.\n",
      "\n",
      "Increase the number of iterations (max_iter) or scale the data as shown in:\n",
      "    https://scikit-learn.org/stable/modules/preprocessing.html\n",
      "Please also refer to the documentation for alternative solver options:\n",
      "    https://scikit-learn.org/stable/modules/linear_model.html#logistic-regression\n",
      "  n_iter_i = _check_optimize_result(\n"
     ]
    },
    {
     "name": "stdout",
     "output_type": "stream",
     "text": [
      "[CV 2/3] END model=LogisticRegression(), model__C=10.0, model__penalty=l2, model__solver=lbfgs;, score=0.801 total time=  27.5s\n"
     ]
    },
    {
     "name": "stderr",
     "output_type": "stream",
     "text": [
      "/home/guilherme/Documents/mestrado/disciplinas/inteligencia-artificial/projeto-final/ia-2024-2/lib/python3.9/site-packages/sklearn/linear_model/_logistic.py:465: ConvergenceWarning: lbfgs failed to converge (status=1):\n",
      "STOP: TOTAL NO. of ITERATIONS REACHED LIMIT.\n",
      "\n",
      "Increase the number of iterations (max_iter) or scale the data as shown in:\n",
      "    https://scikit-learn.org/stable/modules/preprocessing.html\n",
      "Please also refer to the documentation for alternative solver options:\n",
      "    https://scikit-learn.org/stable/modules/linear_model.html#logistic-regression\n",
      "  n_iter_i = _check_optimize_result(\n"
     ]
    },
    {
     "name": "stdout",
     "output_type": "stream",
     "text": [
      "[CV 3/3] END model=LogisticRegression(), model__C=10.0, model__penalty=l2, model__solver=lbfgs;, score=0.804 total time=  28.3s\n",
      "Best Model: Pipeline(steps=[('model', LogisticRegression(C=10.0))])\n",
      "              precision    recall  f1-score   support\n",
      "\n",
      "        enfj       0.80      0.90      0.84       256\n",
      "        enfp       0.77      0.70      0.73       279\n",
      "        entj       0.91      0.96      0.93       248\n",
      "        entp       0.78      0.85      0.81       236\n",
      "        esfj       0.99      1.00      0.99       251\n",
      "        esfp       0.95      0.98      0.96       245\n",
      "        estj       0.99      0.99      0.99       269\n",
      "        estp       1.00      1.00      1.00       263\n",
      "        infj       0.60      0.56      0.58       259\n",
      "        infp       0.55      0.48      0.51       248\n",
      "        intj       0.75      0.71      0.73       259\n",
      "        intp       0.76      0.61      0.68       274\n",
      "        isfj       0.88      0.90      0.89       252\n",
      "        isfp       0.85      0.93      0.89       241\n",
      "        istj       0.92      0.99      0.95       246\n",
      "        istp       0.91      0.95      0.93       277\n",
      "\n",
      "    accuracy                           0.84      4103\n",
      "   macro avg       0.84      0.84      0.84      4103\n",
      "weighted avg       0.84      0.84      0.84      4103\n",
      "\n"
     ]
    },
    {
     "name": "stderr",
     "output_type": "stream",
     "text": [
      "/home/guilherme/Documents/mestrado/disciplinas/inteligencia-artificial/projeto-final/ia-2024-2/lib/python3.9/site-packages/sklearn/linear_model/_logistic.py:465: ConvergenceWarning: lbfgs failed to converge (status=1):\n",
      "STOP: TOTAL NO. of ITERATIONS REACHED LIMIT.\n",
      "\n",
      "Increase the number of iterations (max_iter) or scale the data as shown in:\n",
      "    https://scikit-learn.org/stable/modules/preprocessing.html\n",
      "Please also refer to the documentation for alternative solver options:\n",
      "    https://scikit-learn.org/stable/modules/linear_model.html#logistic-regression\n",
      "  n_iter_i = _check_optimize_result(\n"
     ]
    }
   ],
   "source": [
    "# Define the pipeline\n",
    "from sklearn.pipeline import Pipeline\n",
    "pipeline = Pipeline([\n",
    "    ('model', LogisticRegression())  # Placeholder, will be replaced in GridSearchCV\n",
    "])\n",
    "\n",
    "# Perform grid search\n",
    "grid = GridSearchCV(pipeline, param_grid, cv=3, scoring='accuracy', verbose=3)\n",
    "grid.fit(X_train, y_train)\n",
    "\n",
    "# Evaluate on test set\n",
    "y_pred = grid.best_estimator_.predict(X_test)\n",
    "print(\"Best Model:\", grid.best_estimator_)\n",
    "print(classification_report(y_test, y_pred))\n"
   ]
  },
  {
   "cell_type": "code",
   "execution_count": 14,
   "metadata": {},
   "outputs": [
    {
     "data": {
      "text/plain": [
       "['best_model_regression.joblib']"
      ]
     },
     "execution_count": 14,
     "metadata": {},
     "output_type": "execute_result"
    }
   ],
   "source": [
    "from joblib import dump, load\n",
    "\n",
    "dump(grid.best_estimator_, 'best_model_regression.joblib')"
   ]
  },
  {
   "cell_type": "code",
   "execution_count": 23,
   "metadata": {},
   "outputs": [
    {
     "data": {
      "text/plain": [
       "{'memory': None,\n",
       " 'steps': [('model', LogisticRegression(C=10.0))],\n",
       " 'transform_input': None,\n",
       " 'verbose': False,\n",
       " 'model': LogisticRegression(C=10.0),\n",
       " 'model__C': 10.0,\n",
       " 'model__class_weight': None,\n",
       " 'model__dual': False,\n",
       " 'model__fit_intercept': True,\n",
       " 'model__intercept_scaling': 1,\n",
       " 'model__l1_ratio': None,\n",
       " 'model__max_iter': 100,\n",
       " 'model__multi_class': 'deprecated',\n",
       " 'model__n_jobs': None,\n",
       " 'model__penalty': 'l2',\n",
       " 'model__random_state': None,\n",
       " 'model__solver': 'lbfgs',\n",
       " 'model__tol': 0.0001,\n",
       " 'model__verbose': 0,\n",
       " 'model__warm_start': False}"
      ]
     },
     "execution_count": 23,
     "metadata": {},
     "output_type": "execute_result"
    }
   ],
   "source": [
    "clf = load('best_model_regression.joblib')\n",
    "clf.get_params()"
   ]
  },
  {
   "cell_type": "code",
   "execution_count": null,
   "metadata": {
    "trusted": true
   },
   "outputs": [],
   "source": [
    "# Define the pipeline\n",
    "from sklearn.pipeline import Pipeline\n",
    "pipeline = Pipeline([\n",
    "    ('model', LogisticRegression())  # Placeholder, will be replaced in GridSearchCV\n",
    "])\n",
    "\n",
    "# Perform grid search\n",
    "grid = GridSearchCV(pipeline, param_grid_oh, cv=3, scoring='accuracy', verbose=3)\n",
    "grid.fit(X_train, y_train)\n",
    "\n",
    "# Evaluate on test set\n",
    "y_pred = grid.best_estimator_.predict(X_test)\n",
    "print(\"Best Model:\", grid.best_estimator_)\n",
    "print(classification_report(y_test, y_pred))\n"
   ]
  },
  {
   "cell_type": "code",
   "execution_count": 24,
   "metadata": {},
   "outputs": [
    {
     "name": "stderr",
     "output_type": "stream",
     "text": [
      "2024-12-10 19:10:23.563537: I external/local_xla/xla/tsl/cuda/cudart_stub.cc:32] Could not find cuda drivers on your machine, GPU will not be used.\n",
      "2024-12-10 19:10:23.567009: I external/local_xla/xla/tsl/cuda/cudart_stub.cc:32] Could not find cuda drivers on your machine, GPU will not be used.\n",
      "2024-12-10 19:10:23.574975: E external/local_xla/xla/stream_executor/cuda/cuda_fft.cc:477] Unable to register cuFFT factory: Attempting to register factory for plugin cuFFT when one has already been registered\n",
      "WARNING: All log messages before absl::InitializeLog() is called are written to STDERR\n",
      "E0000 00:00:1733868623.587883   11794 cuda_dnn.cc:8310] Unable to register cuDNN factory: Attempting to register factory for plugin cuDNN when one has already been registered\n",
      "E0000 00:00:1733868623.591624   11794 cuda_blas.cc:1418] Unable to register cuBLAS factory: Attempting to register factory for plugin cuBLAS when one has already been registered\n",
      "2024-12-10 19:10:23.607943: I tensorflow/core/platform/cpu_feature_guard.cc:210] This TensorFlow binary is optimized to use available CPU instructions in performance-critical operations.\n",
      "To enable the following instructions: AVX2 FMA, in other operations, rebuild TensorFlow with the appropriate compiler flags.\n"
     ]
    },
    {
     "name": "stdout",
     "output_type": "stream",
     "text": [
      "Num GPUs Available: 0\n"
     ]
    },
    {
     "name": "stderr",
     "output_type": "stream",
     "text": [
      "W0000 00:00:1733868624.978339   11794 gpu_device.cc:2344] Cannot dlopen some GPU libraries. Please make sure the missing libraries mentioned above are installed properly if you would like to use GPU. Follow the guide at https://www.tensorflow.org/install/gpu for how to download and setup the required libraries for your platform.\n",
      "Skipping registering GPU devices...\n"
     ]
    }
   ],
   "source": [
    "import tensorflow as tf\n",
    "\n",
    "print(\"Num GPUs Available:\", len(tf.config.list_physical_devices('GPU')))"
   ]
  },
  {
   "cell_type": "code",
   "execution_count": 36,
   "metadata": {},
   "outputs": [],
   "source": [
    "from sklearn.model_selection import train_test_split\n",
    "\n",
    "# Split data\n",
    "X = np.stack(df['glove_embedding'].values)  # Ensure embeddings are stacked correctly\n",
    "y = np.stack(df['label_one_hot'].values)   # Stack one-hot encoded labels\n",
    "\n",
    "X_train, X_test, y_train, y_test = train_test_split(X, y, test_size=0.2, random_state=42)\n"
   ]
  },
  {
   "cell_type": "code",
   "execution_count": 48,
   "metadata": {},
   "outputs": [],
   "source": [
    "from tensorflow.keras.models import Sequential\n",
    "from tensorflow.keras.layers import Dense, Dropout\n",
    "\n",
    "num_classes = y_train.shape[1]  # Number of classes from one-hot encoding\n",
    "\n",
    "model = Sequential([\n",
    "    Dense(128, activation='relu', input_shape=(300,)),\n",
    "    Dropout(0.5),\n",
    "    Dense(256, activation='relu'),\n",
    "    Dropout(0.5),\n",
    "    Dense(512, activation='relu'),\n",
    "    Dropout(0.5),\n",
    "    Dense(256, activation='relu'),\n",
    "    Dropout(0.5),\n",
    "    Dense(128, activation='relu'),\n",
    "    Dropout(0.5),\n",
    "    Dense(64, activation='relu'),\n",
    "    Dropout(0.5),\n",
    "    Dense(num_classes, activation='softmax')  # Multi-class output\n",
    "])\n",
    "\n",
    "model.compile(optimizer='adam',\n",
    "              loss='categorical_crossentropy',\n",
    "              metrics=['accuracy'])\n"
   ]
  },
  {
   "cell_type": "code",
   "execution_count": 50,
   "metadata": {},
   "outputs": [
    {
     "name": "stdout",
     "output_type": "stream",
     "text": [
      "Epoch 1/100\n",
      "\u001b[1m196/196\u001b[0m \u001b[32m━━━━━━━━━━━━━━━━━━━━\u001b[0m\u001b[37m\u001b[0m \u001b[1m1s\u001b[0m 6ms/step - accuracy: 0.1788 - loss: 2.5156 - val_accuracy: 0.1875 - val_loss: 2.5112\n",
      "Epoch 2/100\n",
      "\u001b[1m196/196\u001b[0m \u001b[32m━━━━━━━━━━━━━━━━━━━━\u001b[0m\u001b[37m\u001b[0m \u001b[1m1s\u001b[0m 6ms/step - accuracy: 0.1874 - loss: 2.4841 - val_accuracy: 0.1855 - val_loss: 2.5096\n",
      "Epoch 3/100\n",
      "\u001b[1m196/196\u001b[0m \u001b[32m━━━━━━━━━━━━━━━━━━━━\u001b[0m\u001b[37m\u001b[0m \u001b[1m1s\u001b[0m 6ms/step - accuracy: 0.1785 - loss: 2.4960 - val_accuracy: 0.1868 - val_loss: 2.5100\n",
      "Epoch 4/100\n",
      "\u001b[1m196/196\u001b[0m \u001b[32m━━━━━━━━━━━━━━━━━━━━\u001b[0m\u001b[37m\u001b[0m \u001b[1m1s\u001b[0m 6ms/step - accuracy: 0.1795 - loss: 2.5042 - val_accuracy: 0.1868 - val_loss: 2.5031\n",
      "Epoch 5/100\n",
      "\u001b[1m196/196\u001b[0m \u001b[32m━━━━━━━━━━━━━━━━━━━━\u001b[0m\u001b[37m\u001b[0m \u001b[1m1s\u001b[0m 5ms/step - accuracy: 0.1768 - loss: 2.4971 - val_accuracy: 0.1855 - val_loss: 2.5036\n",
      "Epoch 6/100\n",
      "\u001b[1m196/196\u001b[0m \u001b[32m━━━━━━━━━━━━━━━━━━━━\u001b[0m\u001b[37m\u001b[0m \u001b[1m1s\u001b[0m 6ms/step - accuracy: 0.1803 - loss: 2.4840 - val_accuracy: 0.1836 - val_loss: 2.5133\n",
      "Epoch 7/100\n",
      "\u001b[1m196/196\u001b[0m \u001b[32m━━━━━━━━━━━━━━━━━━━━\u001b[0m\u001b[37m\u001b[0m \u001b[1m1s\u001b[0m 6ms/step - accuracy: 0.1830 - loss: 2.4974 - val_accuracy: 0.1855 - val_loss: 2.5037\n",
      "Epoch 8/100\n",
      "\u001b[1m196/196\u001b[0m \u001b[32m━━━━━━━━━━━━━━━━━━━━\u001b[0m\u001b[37m\u001b[0m \u001b[1m1s\u001b[0m 6ms/step - accuracy: 0.1787 - loss: 2.4922 - val_accuracy: 0.1875 - val_loss: 2.5114\n",
      "Epoch 9/100\n",
      "\u001b[1m196/196\u001b[0m \u001b[32m━━━━━━━━━━━━━━━━━━━━\u001b[0m\u001b[37m\u001b[0m \u001b[1m1s\u001b[0m 6ms/step - accuracy: 0.1854 - loss: 2.5046 - val_accuracy: 0.1900 - val_loss: 2.4995\n",
      "Epoch 10/100\n",
      "\u001b[1m196/196\u001b[0m \u001b[32m━━━━━━━━━━━━━━━━━━━━\u001b[0m\u001b[37m\u001b[0m \u001b[1m1s\u001b[0m 6ms/step - accuracy: 0.1821 - loss: 2.4863 - val_accuracy: 0.1913 - val_loss: 2.5111\n",
      "Epoch 11/100\n",
      "\u001b[1m196/196\u001b[0m \u001b[32m━━━━━━━━━━━━━━━━━━━━\u001b[0m\u001b[37m\u001b[0m \u001b[1m1s\u001b[0m 6ms/step - accuracy: 0.1739 - loss: 2.5005 - val_accuracy: 0.1875 - val_loss: 2.5155\n",
      "Epoch 12/100\n",
      "\u001b[1m196/196\u001b[0m \u001b[32m━━━━━━━━━━━━━━━━━━━━\u001b[0m\u001b[37m\u001b[0m \u001b[1m1s\u001b[0m 6ms/step - accuracy: 0.1774 - loss: 2.4921 - val_accuracy: 0.1823 - val_loss: 2.5191\n",
      "Epoch 13/100\n",
      "\u001b[1m196/196\u001b[0m \u001b[32m━━━━━━━━━━━━━━━━━━━━\u001b[0m\u001b[37m\u001b[0m \u001b[1m1s\u001b[0m 6ms/step - accuracy: 0.1654 - loss: 2.5053 - val_accuracy: 0.1843 - val_loss: 2.5164\n",
      "Epoch 14/100\n",
      "\u001b[1m196/196\u001b[0m \u001b[32m━━━━━━━━━━━━━━━━━━━━\u001b[0m\u001b[37m\u001b[0m \u001b[1m1s\u001b[0m 5ms/step - accuracy: 0.1880 - loss: 2.4839 - val_accuracy: 0.1804 - val_loss: 2.5237\n",
      "Epoch 15/100\n",
      "\u001b[1m196/196\u001b[0m \u001b[32m━━━━━━━━━━━━━━━━━━━━\u001b[0m\u001b[37m\u001b[0m \u001b[1m1s\u001b[0m 5ms/step - accuracy: 0.1770 - loss: 2.4810 - val_accuracy: 0.1823 - val_loss: 2.5154\n",
      "Epoch 16/100\n",
      "\u001b[1m196/196\u001b[0m \u001b[32m━━━━━━━━━━━━━━━━━━━━\u001b[0m\u001b[37m\u001b[0m \u001b[1m1s\u001b[0m 6ms/step - accuracy: 0.1779 - loss: 2.4942 - val_accuracy: 0.1779 - val_loss: 2.5217\n",
      "Epoch 17/100\n",
      "\u001b[1m196/196\u001b[0m \u001b[32m━━━━━━━━━━━━━━━━━━━━\u001b[0m\u001b[37m\u001b[0m \u001b[1m1s\u001b[0m 6ms/step - accuracy: 0.1821 - loss: 2.5000 - val_accuracy: 0.1862 - val_loss: 2.5024\n",
      "Epoch 18/100\n",
      "\u001b[1m196/196\u001b[0m \u001b[32m━━━━━━━━━━━━━━━━━━━━\u001b[0m\u001b[37m\u001b[0m \u001b[1m1s\u001b[0m 6ms/step - accuracy: 0.1798 - loss: 2.4917 - val_accuracy: 0.1836 - val_loss: 2.5128\n",
      "Epoch 19/100\n",
      "\u001b[1m196/196\u001b[0m \u001b[32m━━━━━━━━━━━━━━━━━━━━\u001b[0m\u001b[37m\u001b[0m \u001b[1m1s\u001b[0m 6ms/step - accuracy: 0.1774 - loss: 2.4781 - val_accuracy: 0.1772 - val_loss: 2.5100\n",
      "Epoch 20/100\n",
      "\u001b[1m196/196\u001b[0m \u001b[32m━━━━━━━━━━━━━━━━━━━━\u001b[0m\u001b[37m\u001b[0m \u001b[1m1s\u001b[0m 6ms/step - accuracy: 0.1893 - loss: 2.4847 - val_accuracy: 0.1849 - val_loss: 2.5170\n",
      "Epoch 21/100\n",
      "\u001b[1m196/196\u001b[0m \u001b[32m━━━━━━━━━━━━━━━━━━━━\u001b[0m\u001b[37m\u001b[0m \u001b[1m1s\u001b[0m 6ms/step - accuracy: 0.1863 - loss: 2.4829 - val_accuracy: 0.1862 - val_loss: 2.5169\n",
      "Epoch 22/100\n",
      "\u001b[1m196/196\u001b[0m \u001b[32m━━━━━━━━━━━━━━━━━━━━\u001b[0m\u001b[37m\u001b[0m \u001b[1m1s\u001b[0m 6ms/step - accuracy: 0.1735 - loss: 2.4862 - val_accuracy: 0.1900 - val_loss: 2.5219\n",
      "Epoch 23/100\n",
      "\u001b[1m196/196\u001b[0m \u001b[32m━━━━━━━━━━━━━━━━━━━━\u001b[0m\u001b[37m\u001b[0m \u001b[1m1s\u001b[0m 6ms/step - accuracy: 0.1866 - loss: 2.4808 - val_accuracy: 0.1862 - val_loss: 2.5373\n",
      "Epoch 24/100\n",
      "\u001b[1m196/196\u001b[0m \u001b[32m━━━━━━━━━━━━━━━━━━━━\u001b[0m\u001b[37m\u001b[0m \u001b[1m1s\u001b[0m 6ms/step - accuracy: 0.1815 - loss: 2.4950 - val_accuracy: 0.1868 - val_loss: 2.5173\n",
      "Epoch 25/100\n",
      "\u001b[1m196/196\u001b[0m \u001b[32m━━━━━━━━━━━━━━━━━━━━\u001b[0m\u001b[37m\u001b[0m \u001b[1m1s\u001b[0m 6ms/step - accuracy: 0.1918 - loss: 2.4893 - val_accuracy: 0.1766 - val_loss: 2.5172\n",
      "Epoch 26/100\n",
      "\u001b[1m196/196\u001b[0m \u001b[32m━━━━━━━━━━━━━━━━━━━━\u001b[0m\u001b[37m\u001b[0m \u001b[1m1s\u001b[0m 6ms/step - accuracy: 0.1913 - loss: 2.4613 - val_accuracy: 0.1887 - val_loss: 2.5241\n",
      "Epoch 27/100\n",
      "\u001b[1m196/196\u001b[0m \u001b[32m━━━━━━━━━━━━━━━━━━━━\u001b[0m\u001b[37m\u001b[0m \u001b[1m1s\u001b[0m 6ms/step - accuracy: 0.1887 - loss: 2.4819 - val_accuracy: 0.1887 - val_loss: 2.5288\n",
      "Epoch 28/100\n",
      "\u001b[1m196/196\u001b[0m \u001b[32m━━━━━━━━━━━━━━━━━━━━\u001b[0m\u001b[37m\u001b[0m \u001b[1m1s\u001b[0m 6ms/step - accuracy: 0.1890 - loss: 2.4689 - val_accuracy: 0.1759 - val_loss: 2.5293\n",
      "Epoch 29/100\n",
      "\u001b[1m196/196\u001b[0m \u001b[32m━━━━━━━━━━━━━━━━━━━━\u001b[0m\u001b[37m\u001b[0m \u001b[1m1s\u001b[0m 6ms/step - accuracy: 0.1835 - loss: 2.4862 - val_accuracy: 0.1843 - val_loss: 2.5341\n",
      "Epoch 30/100\n",
      "\u001b[1m196/196\u001b[0m \u001b[32m━━━━━━━━━━━━━━━━━━━━\u001b[0m\u001b[37m\u001b[0m \u001b[1m1s\u001b[0m 6ms/step - accuracy: 0.1827 - loss: 2.4809 - val_accuracy: 0.1779 - val_loss: 2.5376\n",
      "Epoch 31/100\n",
      "\u001b[1m196/196\u001b[0m \u001b[32m━━━━━━━━━━━━━━━━━━━━\u001b[0m\u001b[37m\u001b[0m \u001b[1m1s\u001b[0m 6ms/step - accuracy: 0.1893 - loss: 2.4635 - val_accuracy: 0.1804 - val_loss: 2.5414\n",
      "Epoch 32/100\n",
      "\u001b[1m196/196\u001b[0m \u001b[32m━━━━━━━━━━━━━━━━━━━━\u001b[0m\u001b[37m\u001b[0m \u001b[1m1s\u001b[0m 6ms/step - accuracy: 0.1789 - loss: 2.4753 - val_accuracy: 0.1779 - val_loss: 2.5675\n",
      "Epoch 33/100\n",
      "\u001b[1m196/196\u001b[0m \u001b[32m━━━━━━━━━━━━━━━━━━━━\u001b[0m\u001b[37m\u001b[0m \u001b[1m1s\u001b[0m 5ms/step - accuracy: 0.1798 - loss: 2.4925 - val_accuracy: 0.1836 - val_loss: 2.5471\n",
      "Epoch 34/100\n",
      "\u001b[1m196/196\u001b[0m \u001b[32m━━━━━━━━━━━━━━━━━━━━\u001b[0m\u001b[37m\u001b[0m \u001b[1m1s\u001b[0m 6ms/step - accuracy: 0.1903 - loss: 2.4788 - val_accuracy: 0.1881 - val_loss: 2.5289\n",
      "Epoch 35/100\n",
      "\u001b[1m196/196\u001b[0m \u001b[32m━━━━━━━━━━━━━━━━━━━━\u001b[0m\u001b[37m\u001b[0m \u001b[1m1s\u001b[0m 6ms/step - accuracy: 0.1750 - loss: 2.4943 - val_accuracy: 0.1894 - val_loss: 2.5356\n",
      "Epoch 36/100\n",
      "\u001b[1m196/196\u001b[0m \u001b[32m━━━━━━━━━━━━━━━━━━━━\u001b[0m\u001b[37m\u001b[0m \u001b[1m1s\u001b[0m 6ms/step - accuracy: 0.1914 - loss: 2.4765 - val_accuracy: 0.1849 - val_loss: 2.5262\n",
      "Epoch 37/100\n",
      "\u001b[1m196/196\u001b[0m \u001b[32m━━━━━━━━━━━━━━━━━━━━\u001b[0m\u001b[37m\u001b[0m \u001b[1m1s\u001b[0m 6ms/step - accuracy: 0.1830 - loss: 2.4827 - val_accuracy: 0.1875 - val_loss: 2.5495\n",
      "Epoch 38/100\n",
      "\u001b[1m196/196\u001b[0m \u001b[32m━━━━━━━━━━━━━━━━━━━━\u001b[0m\u001b[37m\u001b[0m \u001b[1m1s\u001b[0m 6ms/step - accuracy: 0.1931 - loss: 2.4735 - val_accuracy: 0.1881 - val_loss: 2.5487\n",
      "Epoch 39/100\n",
      "\u001b[1m196/196\u001b[0m \u001b[32m━━━━━━━━━━━━━━━━━━━━\u001b[0m\u001b[37m\u001b[0m \u001b[1m1s\u001b[0m 6ms/step - accuracy: 0.1818 - loss: 2.4828 - val_accuracy: 0.1817 - val_loss: 2.5573\n",
      "Epoch 40/100\n",
      "\u001b[1m196/196\u001b[0m \u001b[32m━━━━━━━━━━━━━━━━━━━━\u001b[0m\u001b[37m\u001b[0m \u001b[1m1s\u001b[0m 6ms/step - accuracy: 0.1768 - loss: 2.4912 - val_accuracy: 0.1836 - val_loss: 2.5313\n",
      "Epoch 41/100\n",
      "\u001b[1m196/196\u001b[0m \u001b[32m━━━━━━━━━━━━━━━━━━━━\u001b[0m\u001b[37m\u001b[0m \u001b[1m1s\u001b[0m 6ms/step - accuracy: 0.1864 - loss: 2.4709 - val_accuracy: 0.1881 - val_loss: 2.5459\n",
      "Epoch 42/100\n",
      "\u001b[1m196/196\u001b[0m \u001b[32m━━━━━━━━━━━━━━━━━━━━\u001b[0m\u001b[37m\u001b[0m \u001b[1m1s\u001b[0m 6ms/step - accuracy: 0.1796 - loss: 2.4692 - val_accuracy: 0.1843 - val_loss: 2.5491\n",
      "Epoch 43/100\n",
      "\u001b[1m196/196\u001b[0m \u001b[32m━━━━━━━━━━━━━━━━━━━━\u001b[0m\u001b[37m\u001b[0m \u001b[1m1s\u001b[0m 6ms/step - accuracy: 0.1950 - loss: 2.4723 - val_accuracy: 0.1868 - val_loss: 2.5377\n",
      "Epoch 44/100\n",
      "\u001b[1m196/196\u001b[0m \u001b[32m━━━━━━━━━━━━━━━━━━━━\u001b[0m\u001b[37m\u001b[0m \u001b[1m1s\u001b[0m 6ms/step - accuracy: 0.1915 - loss: 2.4707 - val_accuracy: 0.1830 - val_loss: 2.5370\n",
      "Epoch 45/100\n",
      "\u001b[1m196/196\u001b[0m \u001b[32m━━━━━━━━━━━━━━━━━━━━\u001b[0m\u001b[37m\u001b[0m \u001b[1m1s\u001b[0m 5ms/step - accuracy: 0.1943 - loss: 2.4703 - val_accuracy: 0.1868 - val_loss: 2.5701\n",
      "Epoch 46/100\n",
      "\u001b[1m196/196\u001b[0m \u001b[32m━━━━━━━━━━━━━━━━━━━━\u001b[0m\u001b[37m\u001b[0m \u001b[1m1s\u001b[0m 6ms/step - accuracy: 0.1943 - loss: 2.4588 - val_accuracy: 0.1830 - val_loss: 2.5847\n",
      "Epoch 47/100\n",
      "\u001b[1m196/196\u001b[0m \u001b[32m━━━━━━━━━━━━━━━━━━━━\u001b[0m\u001b[37m\u001b[0m \u001b[1m1s\u001b[0m 6ms/step - accuracy: 0.1830 - loss: 2.4819 - val_accuracy: 0.1881 - val_loss: 2.5658\n",
      "Epoch 48/100\n",
      "\u001b[1m196/196\u001b[0m \u001b[32m━━━━━━━━━━━━━━━━━━━━\u001b[0m\u001b[37m\u001b[0m \u001b[1m1s\u001b[0m 6ms/step - accuracy: 0.1888 - loss: 2.4729 - val_accuracy: 0.1811 - val_loss: 2.5844\n",
      "Epoch 49/100\n",
      "\u001b[1m196/196\u001b[0m \u001b[32m━━━━━━━━━━━━━━━━━━━━\u001b[0m\u001b[37m\u001b[0m \u001b[1m1s\u001b[0m 6ms/step - accuracy: 0.1916 - loss: 2.4749 - val_accuracy: 0.1855 - val_loss: 2.5962\n",
      "Epoch 50/100\n",
      "\u001b[1m196/196\u001b[0m \u001b[32m━━━━━━━━━━━━━━━━━━━━\u001b[0m\u001b[37m\u001b[0m \u001b[1m1s\u001b[0m 6ms/step - accuracy: 0.1829 - loss: 2.4725 - val_accuracy: 0.1823 - val_loss: 2.5845\n",
      "Epoch 51/100\n",
      "\u001b[1m196/196\u001b[0m \u001b[32m━━━━━━━━━━━━━━━━━━━━\u001b[0m\u001b[37m\u001b[0m \u001b[1m1s\u001b[0m 6ms/step - accuracy: 0.1851 - loss: 2.4616 - val_accuracy: 0.1753 - val_loss: 2.5987\n",
      "Epoch 52/100\n",
      "\u001b[1m196/196\u001b[0m \u001b[32m━━━━━━━━━━━━━━━━━━━━\u001b[0m\u001b[37m\u001b[0m \u001b[1m1s\u001b[0m 5ms/step - accuracy: 0.1877 - loss: 2.4545 - val_accuracy: 0.1823 - val_loss: 2.5852\n",
      "Epoch 53/100\n",
      "\u001b[1m196/196\u001b[0m \u001b[32m━━━━━━━━━━━━━━━━━━━━\u001b[0m\u001b[37m\u001b[0m \u001b[1m1s\u001b[0m 6ms/step - accuracy: 0.1812 - loss: 2.4715 - val_accuracy: 0.1855 - val_loss: 2.5707\n",
      "Epoch 54/100\n",
      "\u001b[1m196/196\u001b[0m \u001b[32m━━━━━━━━━━━━━━━━━━━━\u001b[0m\u001b[37m\u001b[0m \u001b[1m1s\u001b[0m 6ms/step - accuracy: 0.1848 - loss: 2.4800 - val_accuracy: 0.1894 - val_loss: 2.5784\n",
      "Epoch 55/100\n",
      "\u001b[1m196/196\u001b[0m \u001b[32m━━━━━━━━━━━━━━━━━━━━\u001b[0m\u001b[37m\u001b[0m \u001b[1m1s\u001b[0m 5ms/step - accuracy: 0.1795 - loss: 2.4784 - val_accuracy: 0.1849 - val_loss: 2.6031\n",
      "Epoch 56/100\n",
      "\u001b[1m196/196\u001b[0m \u001b[32m━━━━━━━━━━━━━━━━━━━━\u001b[0m\u001b[37m\u001b[0m \u001b[1m1s\u001b[0m 6ms/step - accuracy: 0.1940 - loss: 2.4670 - val_accuracy: 0.1836 - val_loss: 2.6004\n",
      "Epoch 57/100\n",
      "\u001b[1m196/196\u001b[0m \u001b[32m━━━━━━━━━━━━━━━━━━━━\u001b[0m\u001b[37m\u001b[0m \u001b[1m1s\u001b[0m 6ms/step - accuracy: 0.1937 - loss: 2.4621 - val_accuracy: 0.1798 - val_loss: 2.6283\n",
      "Epoch 58/100\n",
      "\u001b[1m196/196\u001b[0m \u001b[32m━━━━━━━━━━━━━━━━━━━━\u001b[0m\u001b[37m\u001b[0m \u001b[1m1s\u001b[0m 6ms/step - accuracy: 0.1931 - loss: 2.4598 - val_accuracy: 0.1798 - val_loss: 2.6714\n",
      "Epoch 59/100\n",
      "\u001b[1m196/196\u001b[0m \u001b[32m━━━━━━━━━━━━━━━━━━━━\u001b[0m\u001b[37m\u001b[0m \u001b[1m1s\u001b[0m 5ms/step - accuracy: 0.1863 - loss: 2.4753 - val_accuracy: 0.1836 - val_loss: 2.5793\n",
      "Epoch 60/100\n",
      "\u001b[1m196/196\u001b[0m \u001b[32m━━━━━━━━━━━━━━━━━━━━\u001b[0m\u001b[37m\u001b[0m \u001b[1m1s\u001b[0m 5ms/step - accuracy: 0.1923 - loss: 2.4760 - val_accuracy: 0.1887 - val_loss: 2.5643\n",
      "Epoch 61/100\n",
      "\u001b[1m196/196\u001b[0m \u001b[32m━━━━━━━━━━━━━━━━━━━━\u001b[0m\u001b[37m\u001b[0m \u001b[1m1s\u001b[0m 6ms/step - accuracy: 0.1835 - loss: 2.4753 - val_accuracy: 0.1875 - val_loss: 2.5780\n",
      "Epoch 62/100\n",
      "\u001b[1m196/196\u001b[0m \u001b[32m━━━━━━━━━━━━━━━━━━━━\u001b[0m\u001b[37m\u001b[0m \u001b[1m1s\u001b[0m 6ms/step - accuracy: 0.1793 - loss: 2.4776 - val_accuracy: 0.1868 - val_loss: 2.5596\n",
      "Epoch 63/100\n",
      "\u001b[1m196/196\u001b[0m \u001b[32m━━━━━━━━━━━━━━━━━━━━\u001b[0m\u001b[37m\u001b[0m \u001b[1m1s\u001b[0m 5ms/step - accuracy: 0.1830 - loss: 2.4729 - val_accuracy: 0.1849 - val_loss: 2.5947\n",
      "Epoch 64/100\n",
      "\u001b[1m196/196\u001b[0m \u001b[32m━━━━━━━━━━━━━━━━━━━━\u001b[0m\u001b[37m\u001b[0m \u001b[1m1s\u001b[0m 6ms/step - accuracy: 0.1848 - loss: 2.4732 - val_accuracy: 0.1849 - val_loss: 2.5766\n",
      "Epoch 65/100\n",
      "\u001b[1m196/196\u001b[0m \u001b[32m━━━━━━━━━━━━━━━━━━━━\u001b[0m\u001b[37m\u001b[0m \u001b[1m1s\u001b[0m 6ms/step - accuracy: 0.1853 - loss: 2.4556 - val_accuracy: 0.1811 - val_loss: 2.5901\n",
      "Epoch 66/100\n",
      "\u001b[1m196/196\u001b[0m \u001b[32m━━━━━━━━━━━━━━━━━━━━\u001b[0m\u001b[37m\u001b[0m \u001b[1m1s\u001b[0m 6ms/step - accuracy: 0.1887 - loss: 2.4715 - val_accuracy: 0.1836 - val_loss: 2.5949\n",
      "Epoch 67/100\n",
      "\u001b[1m196/196\u001b[0m \u001b[32m━━━━━━━━━━━━━━━━━━━━\u001b[0m\u001b[37m\u001b[0m \u001b[1m1s\u001b[0m 6ms/step - accuracy: 0.1822 - loss: 2.4696 - val_accuracy: 0.1811 - val_loss: 2.5824\n",
      "Epoch 68/100\n",
      "\u001b[1m196/196\u001b[0m \u001b[32m━━━━━━━━━━━━━━━━━━━━\u001b[0m\u001b[37m\u001b[0m \u001b[1m1s\u001b[0m 6ms/step - accuracy: 0.1921 - loss: 2.4559 - val_accuracy: 0.1849 - val_loss: 2.5616\n",
      "Epoch 69/100\n",
      "\u001b[1m196/196\u001b[0m \u001b[32m━━━━━━━━━━━━━━━━━━━━\u001b[0m\u001b[37m\u001b[0m \u001b[1m1s\u001b[0m 6ms/step - accuracy: 0.1833 - loss: 2.4819 - val_accuracy: 0.1849 - val_loss: 2.5927\n",
      "Epoch 70/100\n",
      "\u001b[1m196/196\u001b[0m \u001b[32m━━━━━━━━━━━━━━━━━━━━\u001b[0m\u001b[37m\u001b[0m \u001b[1m1s\u001b[0m 6ms/step - accuracy: 0.1907 - loss: 2.4537 - val_accuracy: 0.1887 - val_loss: 2.6322\n",
      "Epoch 71/100\n",
      "\u001b[1m196/196\u001b[0m \u001b[32m━━━━━━━━━━━━━━━━━━━━\u001b[0m\u001b[37m\u001b[0m \u001b[1m1s\u001b[0m 6ms/step - accuracy: 0.1879 - loss: 2.4697 - val_accuracy: 0.1862 - val_loss: 2.6104\n",
      "Epoch 72/100\n",
      "\u001b[1m196/196\u001b[0m \u001b[32m━━━━━━━━━━━━━━━━━━━━\u001b[0m\u001b[37m\u001b[0m \u001b[1m1s\u001b[0m 6ms/step - accuracy: 0.1942 - loss: 2.4594 - val_accuracy: 0.1791 - val_loss: 2.5856\n",
      "Epoch 73/100\n",
      "\u001b[1m196/196\u001b[0m \u001b[32m━━━━━━━━━━━━━━━━━━━━\u001b[0m\u001b[37m\u001b[0m \u001b[1m1s\u001b[0m 6ms/step - accuracy: 0.1908 - loss: 2.4612 - val_accuracy: 0.1804 - val_loss: 2.6342\n",
      "Epoch 74/100\n",
      "\u001b[1m196/196\u001b[0m \u001b[32m━━━━━━━━━━━━━━━━━━━━\u001b[0m\u001b[37m\u001b[0m \u001b[1m1s\u001b[0m 6ms/step - accuracy: 0.1833 - loss: 2.4899 - val_accuracy: 0.1881 - val_loss: 2.6240\n",
      "Epoch 75/100\n",
      "\u001b[1m196/196\u001b[0m \u001b[32m━━━━━━━━━━━━━━━━━━━━\u001b[0m\u001b[37m\u001b[0m \u001b[1m1s\u001b[0m 6ms/step - accuracy: 0.1849 - loss: 2.4701 - val_accuracy: 0.1817 - val_loss: 2.6152\n",
      "Epoch 76/100\n",
      "\u001b[1m196/196\u001b[0m \u001b[32m━━━━━━━━━━━━━━━━━━━━\u001b[0m\u001b[37m\u001b[0m \u001b[1m1s\u001b[0m 6ms/step - accuracy: 0.1981 - loss: 2.4608 - val_accuracy: 0.1823 - val_loss: 2.6387\n",
      "Epoch 77/100\n",
      "\u001b[1m196/196\u001b[0m \u001b[32m━━━━━━━━━━━━━━━━━━━━\u001b[0m\u001b[37m\u001b[0m \u001b[1m1s\u001b[0m 6ms/step - accuracy: 0.1859 - loss: 2.4654 - val_accuracy: 0.1766 - val_loss: 2.6573\n",
      "Epoch 78/100\n",
      "\u001b[1m196/196\u001b[0m \u001b[32m━━━━━━━━━━━━━━━━━━━━\u001b[0m\u001b[37m\u001b[0m \u001b[1m1s\u001b[0m 6ms/step - accuracy: 0.1875 - loss: 2.4597 - val_accuracy: 0.1817 - val_loss: 2.7023\n",
      "Epoch 79/100\n",
      "\u001b[1m196/196\u001b[0m \u001b[32m━━━━━━━━━━━━━━━━━━━━\u001b[0m\u001b[37m\u001b[0m \u001b[1m1s\u001b[0m 6ms/step - accuracy: 0.1825 - loss: 2.4675 - val_accuracy: 0.1875 - val_loss: 2.6920\n",
      "Epoch 80/100\n",
      "\u001b[1m196/196\u001b[0m \u001b[32m━━━━━━━━━━━━━━━━━━━━\u001b[0m\u001b[37m\u001b[0m \u001b[1m1s\u001b[0m 6ms/step - accuracy: 0.1870 - loss: 2.4810 - val_accuracy: 0.1823 - val_loss: 2.6633\n",
      "Epoch 81/100\n",
      "\u001b[1m196/196\u001b[0m \u001b[32m━━━━━━━━━━━━━━━━━━━━\u001b[0m\u001b[37m\u001b[0m \u001b[1m1s\u001b[0m 6ms/step - accuracy: 0.1884 - loss: 2.4629 - val_accuracy: 0.1862 - val_loss: 2.6721\n",
      "Epoch 82/100\n",
      "\u001b[1m196/196\u001b[0m \u001b[32m━━━━━━━━━━━━━━━━━━━━\u001b[0m\u001b[37m\u001b[0m \u001b[1m1s\u001b[0m 6ms/step - accuracy: 0.1873 - loss: 2.4507 - val_accuracy: 0.1823 - val_loss: 2.7106\n",
      "Epoch 83/100\n",
      "\u001b[1m196/196\u001b[0m \u001b[32m━━━━━━━━━━━━━━━━━━━━\u001b[0m\u001b[37m\u001b[0m \u001b[1m1s\u001b[0m 6ms/step - accuracy: 0.1863 - loss: 2.4686 - val_accuracy: 0.1849 - val_loss: 2.6919\n",
      "Epoch 84/100\n",
      "\u001b[1m196/196\u001b[0m \u001b[32m━━━━━━━━━━━━━━━━━━━━\u001b[0m\u001b[37m\u001b[0m \u001b[1m1s\u001b[0m 6ms/step - accuracy: 0.1906 - loss: 2.4597 - val_accuracy: 0.1862 - val_loss: 2.7282\n",
      "Epoch 85/100\n",
      "\u001b[1m196/196\u001b[0m \u001b[32m━━━━━━━━━━━━━━━━━━━━\u001b[0m\u001b[37m\u001b[0m \u001b[1m1s\u001b[0m 6ms/step - accuracy: 0.1909 - loss: 2.4546 - val_accuracy: 0.1875 - val_loss: 2.7277\n",
      "Epoch 86/100\n",
      "\u001b[1m196/196\u001b[0m \u001b[32m━━━━━━━━━━━━━━━━━━━━\u001b[0m\u001b[37m\u001b[0m \u001b[1m1s\u001b[0m 5ms/step - accuracy: 0.1978 - loss: 2.4469 - val_accuracy: 0.1817 - val_loss: 2.6580\n",
      "Epoch 87/100\n",
      "\u001b[1m196/196\u001b[0m \u001b[32m━━━━━━━━━━━━━━━━━━━━\u001b[0m\u001b[37m\u001b[0m \u001b[1m1s\u001b[0m 6ms/step - accuracy: 0.1893 - loss: 2.4449 - val_accuracy: 0.1894 - val_loss: 2.6692\n",
      "Epoch 88/100\n",
      "\u001b[1m196/196\u001b[0m \u001b[32m━━━━━━━━━━━━━━━━━━━━\u001b[0m\u001b[37m\u001b[0m \u001b[1m1s\u001b[0m 6ms/step - accuracy: 0.1825 - loss: 2.4682 - val_accuracy: 0.1849 - val_loss: 2.6352\n",
      "Epoch 89/100\n",
      "\u001b[1m196/196\u001b[0m \u001b[32m━━━━━━━━━━━━━━━━━━━━\u001b[0m\u001b[37m\u001b[0m \u001b[1m1s\u001b[0m 6ms/step - accuracy: 0.1927 - loss: 2.4462 - val_accuracy: 0.1785 - val_loss: 2.6830\n",
      "Epoch 90/100\n",
      "\u001b[1m196/196\u001b[0m \u001b[32m━━━━━━━━━━━━━━━━━━━━\u001b[0m\u001b[37m\u001b[0m \u001b[1m1s\u001b[0m 6ms/step - accuracy: 0.1858 - loss: 2.4678 - val_accuracy: 0.1804 - val_loss: 2.6432\n",
      "Epoch 91/100\n",
      "\u001b[1m196/196\u001b[0m \u001b[32m━━━━━━━━━━━━━━━━━━━━\u001b[0m\u001b[37m\u001b[0m \u001b[1m1s\u001b[0m 6ms/step - accuracy: 0.1978 - loss: 2.4438 - val_accuracy: 0.1836 - val_loss: 2.6514\n",
      "Epoch 92/100\n",
      "\u001b[1m196/196\u001b[0m \u001b[32m━━━━━━━━━━━━━━━━━━━━\u001b[0m\u001b[37m\u001b[0m \u001b[1m1s\u001b[0m 6ms/step - accuracy: 0.1953 - loss: 2.4622 - val_accuracy: 0.1740 - val_loss: 2.6746\n",
      "Epoch 93/100\n",
      "\u001b[1m196/196\u001b[0m \u001b[32m━━━━━━━━━━━━━━━━━━━━\u001b[0m\u001b[37m\u001b[0m \u001b[1m1s\u001b[0m 6ms/step - accuracy: 0.1864 - loss: 2.4744 - val_accuracy: 0.1811 - val_loss: 2.6769\n",
      "Epoch 94/100\n",
      "\u001b[1m196/196\u001b[0m \u001b[32m━━━━━━━━━━━━━━━━━━━━\u001b[0m\u001b[37m\u001b[0m \u001b[1m1s\u001b[0m 6ms/step - accuracy: 0.1804 - loss: 2.4606 - val_accuracy: 0.1798 - val_loss: 2.7243\n",
      "Epoch 95/100\n",
      "\u001b[1m196/196\u001b[0m \u001b[32m━━━━━━━━━━━━━━━━━━━━\u001b[0m\u001b[37m\u001b[0m \u001b[1m1s\u001b[0m 5ms/step - accuracy: 0.1839 - loss: 2.4717 - val_accuracy: 0.1849 - val_loss: 2.7377\n",
      "Epoch 96/100\n",
      "\u001b[1m196/196\u001b[0m \u001b[32m━━━━━━━━━━━━━━━━━━━━\u001b[0m\u001b[37m\u001b[0m \u001b[1m1s\u001b[0m 6ms/step - accuracy: 0.1968 - loss: 2.4584 - val_accuracy: 0.1779 - val_loss: 2.7571\n",
      "Epoch 97/100\n",
      "\u001b[1m196/196\u001b[0m \u001b[32m━━━━━━━━━━━━━━━━━━━━\u001b[0m\u001b[37m\u001b[0m \u001b[1m1s\u001b[0m 5ms/step - accuracy: 0.1899 - loss: 2.4514 - val_accuracy: 0.1804 - val_loss: 2.7340\n",
      "Epoch 98/100\n",
      "\u001b[1m196/196\u001b[0m \u001b[32m━━━━━━━━━━━━━━━━━━━━\u001b[0m\u001b[37m\u001b[0m \u001b[1m1s\u001b[0m 6ms/step - accuracy: 0.1935 - loss: 2.4562 - val_accuracy: 0.1823 - val_loss: 2.7079\n",
      "Epoch 99/100\n",
      "\u001b[1m196/196\u001b[0m \u001b[32m━━━━━━━━━━━━━━━━━━━━\u001b[0m\u001b[37m\u001b[0m \u001b[1m1s\u001b[0m 6ms/step - accuracy: 0.1868 - loss: 2.4590 - val_accuracy: 0.1843 - val_loss: 2.7456\n",
      "Epoch 100/100\n",
      "\u001b[1m196/196\u001b[0m \u001b[32m━━━━━━━━━━━━━━━━━━━━\u001b[0m\u001b[37m\u001b[0m \u001b[1m1s\u001b[0m 6ms/step - accuracy: 0.1853 - loss: 2.4669 - val_accuracy: 0.1798 - val_loss: 2.7697\n"
     ]
    }
   ],
   "source": [
    "history = model.fit(\n",
    "\tX_train, y_train,\n",
    "\tepochs=100,  # Adjust based on convergence\n",
    "\tbatch_size=32,\n",
    "\tvalidation_data=(X_test, y_test)\n",
    ")\n"
   ]
  },
  {
   "cell_type": "code",
   "execution_count": 41,
   "metadata": {},
   "outputs": [
    {
     "name": "stdout",
     "output_type": "stream",
     "text": [
      "\u001b[1m49/49\u001b[0m \u001b[32m━━━━━━━━━━━━━━━━━━━━\u001b[0m\u001b[37m\u001b[0m \u001b[1m0s\u001b[0m 2ms/step - accuracy: 0.1813 - loss: 2.7449\n",
      "Test Accuracy: 18.62%\n"
     ]
    }
   ],
   "source": [
    "loss, accuracy = model.evaluate(X_test, y_test)\n",
    "print(f'Test Accuracy: {accuracy * 100:.2f}%')\n"
   ]
  },
  {
   "cell_type": "code",
   "execution_count": 51,
   "metadata": {},
   "outputs": [
    {
     "data": {
      "text/plain": [
       "{'memory': None,\n",
       " 'steps': [('model', RandomForestClassifier(n_estimators=200))],\n",
       " 'transform_input': None,\n",
       " 'verbose': False,\n",
       " 'model': RandomForestClassifier(n_estimators=200),\n",
       " 'model__bootstrap': True,\n",
       " 'model__ccp_alpha': 0.0,\n",
       " 'model__class_weight': None,\n",
       " 'model__criterion': 'gini',\n",
       " 'model__max_depth': None,\n",
       " 'model__max_features': 'sqrt',\n",
       " 'model__max_leaf_nodes': None,\n",
       " 'model__max_samples': None,\n",
       " 'model__min_impurity_decrease': 0.0,\n",
       " 'model__min_samples_leaf': 1,\n",
       " 'model__min_samples_split': 2,\n",
       " 'model__min_weight_fraction_leaf': 0.0,\n",
       " 'model__monotonic_cst': None,\n",
       " 'model__n_estimators': 200,\n",
       " 'model__n_jobs': None,\n",
       " 'model__oob_score': False,\n",
       " 'model__random_state': None,\n",
       " 'model__verbose': 0,\n",
       " 'model__warm_start': False}"
      ]
     },
     "execution_count": 51,
     "metadata": {},
     "output_type": "execute_result"
    }
   ],
   "source": [
    "clf_rf = load('best_model_rf.joblib')\n",
    "clf_rf.get_params()"
   ]
  },
  {
   "cell_type": "code",
   "execution_count": 56,
   "metadata": {},
   "outputs": [
    {
     "name": "stdout",
     "output_type": "stream",
     "text": [
      "              precision    recall  f1-score   support\n",
      "\n",
      "        enfj       0.95      0.89      0.92       256\n",
      "        enfp       0.92      0.73      0.82       279\n",
      "        entj       0.99      0.96      0.98       248\n",
      "        entp       0.94      0.87      0.90       236\n",
      "        esfj       1.00      0.99      1.00       251\n",
      "        esfp       1.00      0.97      0.98       245\n",
      "        estj       1.00      0.99      1.00       269\n",
      "        estp       1.00      0.99      1.00       263\n",
      "        infj       0.67      0.69      0.68       259\n",
      "        infp       0.43      0.79      0.56       248\n",
      "        intj       0.86      0.81      0.83       259\n",
      "        intp       0.90      0.68      0.78       274\n",
      "        isfj       0.96      0.94      0.95       252\n",
      "        isfp       0.98      0.96      0.97       241\n",
      "        istj       1.00      0.97      0.98       246\n",
      "        istp       0.99      0.96      0.97       277\n",
      "\n",
      "    accuracy                           0.89      4103\n",
      "   macro avg       0.91      0.89      0.89      4103\n",
      "weighted avg       0.91      0.89      0.89      4103\n",
      "\n"
     ]
    }
   ],
   "source": [
    "y_pred = clf_rf.predict(X_test)\n",
    "print(classification_report(y_test, y_pred))"
   ]
  },
  {
   "cell_type": "code",
   "execution_count": null,
   "metadata": {},
   "outputs": [],
   "source": [
    "# Code to Clean the tweets and make them feasible\n",
    "import nltk\n",
    "from nltk.corpus import stopwords\n",
    "from nltk.tokenize import word_tokenize\n",
    "import emoji\n",
    "import contractions\n",
    "import spacy\n",
    "import re\n",
    "\n",
    "# Load the spaCy English language model\n",
    "nlp = spacy.load('en_core_web_sm')\n",
    "\n",
    "def decode_unicode_escape(text):\n",
    "    return re.sub(r'\\\\x([0-9a-fA-F]{2})', lambda m: bytes.fromhex(m.group(1)).decode('utf-8', errors='ignore'), text)\n",
    "\n",
    "def clean_text(text):\n",
    "    # Decode Unicode escape sequences\n",
    "    text = decode_unicode_escape(text)\n",
    "\n",
    "    # Remove Unicode emojis\n",
    "    text = emoji.emojize(text, language='alias')\n",
    "\n",
    "    # Case Standardization\n",
    "    text = text.lower()\n",
    "\n",
    "    # Remove the leading \"b'\" and trailing \"'\"\n",
    "    text = re.sub(r\"^b'|'$\", '', text)\n",
    "\n",
    "    # Remove hyperlinks\n",
    "    text = re.sub(r'http\\S*', '', text)\n",
    "\n",
    "    # Remove mentions\n",
    "    text = re.sub(r'@\\S*', '', text)\n",
    "\n",
    "    # Replace \\n and \\n\\n with spaces\n",
    "    text = re.sub(r'\\\\n|\\\\n\\\\n', ' ', text)\n",
    "\n",
    "    # Remove any non-alphabetic characters from the text\n",
    "    text = re.sub(r'[^a-zA-Z\\s]+', '', text)\n",
    "\n",
    "    # Remove hashtags\n",
    "    text = re.sub(r'#\\S*', '', text)\n",
    "\n",
    "    # Expand contractions\n",
    "    def expand_contractions(text):\n",
    "        expanded_words = []\n",
    "        for word in text.split():\n",
    "            expanded_words.append(contractions.fix(word))\n",
    "        return ' '.join(expanded_words)\n",
    "\n",
    "    text = expand_contractions(text)\n",
    "\n",
    "    # Lemmatize the text\n",
    "    def lemmatize(text, nlp):\n",
    "        doc = nlp(text)\n",
    "        lemmatized_text = []\n",
    "        for token in doc:\n",
    "            lemmatized_text.append(token.lemma_)\n",
    "        return \" \".join(lemmatized_text)\n",
    "\n",
    "    text = lemmatize(text, nlp)\n",
    "\n",
    "    # Tokenize the text\n",
    "    tokens = word_tokenize(text.lower())\n",
    "\n",
    "    # Remove stop words\n",
    "    tokens = [token for token in tokens if token.isalpha() and token not in stopwords.words('english')]\n",
    "\n",
    "    # Remove leading '@' tokens that are not valid English words\n",
    "    # cleaned_tokens = [token for token in tokens if not token.startswith('@')]\n",
    "\n",
    "    return tokens\n",
    "\n",
    "tweets_elon_df['clean_content'] = tweets_elon_df['tweet'].apply(clean_text)\n",
    "print(tweets_elon_df['clean_content'].head())"
   ]
  }
 ],
 "metadata": {
  "kaggle": {
   "accelerator": "none",
   "dataSources": [
    {
     "datasetId": 3033157,
     "sourceId": 5214169,
     "sourceType": "datasetVersion"
    },
    {
     "datasetId": 5504,
     "sourceId": 8240,
     "sourceType": "datasetVersion"
    }
   ],
   "dockerImageVersionId": 30804,
   "isGpuEnabled": false,
   "isInternetEnabled": true,
   "language": "python",
   "sourceType": "notebook"
  },
  "kernelspec": {
   "display_name": "ia-2024-2",
   "language": "python",
   "name": "python3"
  },
  "language_info": {
   "codemirror_mode": {
    "name": "ipython",
    "version": 3
   },
   "file_extension": ".py",
   "mimetype": "text/x-python",
   "name": "python",
   "nbconvert_exporter": "python",
   "pygments_lexer": "ipython3",
   "version": "3.9.12"
  }
 },
 "nbformat": 4,
 "nbformat_minor": 4
}
